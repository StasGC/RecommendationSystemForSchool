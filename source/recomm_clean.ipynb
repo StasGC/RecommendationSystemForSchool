{
 "cells": [
  {
   "cell_type": "code",
   "execution_count": 1,
   "metadata": {
    "_uuid": "af32cfc3090a3aec787e013caf5668f8b4954eb4"
   },
   "outputs": [
    {
     "name": "stdout",
     "output_type": "stream",
     "text": [
      "['material_cis_merge.csv', 'lesson_plans.csv', 'mat_actions_clean.csv']\n",
      "Populating the interactive namespace from numpy and matplotlib\n"
     ]
    },
    {
     "name": "stderr",
     "output_type": "stream",
     "text": [
      "/opt/conda/lib/python3.6/site-packages/IPython/core/magics/pylab.py:160: UserWarning: pylab import has clobbered these variables: ['datetime']\n",
      "`%matplotlib` prevents importing * from pylab and numpy\n",
      "  \"\\n`%matplotlib` prevents importing * from pylab and numpy\"\n"
     ]
    }
   ],
   "source": [
    "# This Python 3 environment comes with many helpful analytics libraries installed\n",
    "# It is defined by the kaggle/python docker image: https://github.com/kaggle/docker-python\n",
    "# For example, here's several helpful packages to load in \n",
    "\n",
    "import numpy as np # linear algebra\n",
    "import pandas as pd # data processing, CSV file I/O (e.g. pd.read_csv)\n",
    "from datetime import datetime\n",
    "from datetime import timedelta\n",
    "from scipy import spatial\n",
    "from scipy.sparse.linalg import svds\n",
    "from scipy import sparse\n",
    "# Input data files are available in the \"../input/\" directory.\n",
    "# For example, running this (by clicking run or pressing Shift+Enter) will list the files in the input directory\n",
    "\n",
    "rec_week_num = 43\n",
    "rec_week_year = 2018\n",
    "week_delta = 8\n",
    "\n",
    "import os\n",
    "print(os.listdir(\"../input\"))\n",
    "\n",
    "# Any results you write to the current directory are saved as output.\n",
    "%pylab inline "
   ]
  },
  {
   "cell_type": "code",
   "execution_count": 2,
   "metadata": {
    "_uuid": "8254c5b7464447acd64ae723cc65e5c3ba553040"
   },
   "outputs": [
    {
     "name": "stderr",
     "output_type": "stream",
     "text": [
      "<string>:2: DtypeWarning: Columns (6) have mixed types. Specify dtype option on import or set low_memory=False.\n"
     ]
    },
    {
     "name": "stdout",
     "output_type": "stream",
     "text": [
      "CPU times: user 14.5 s, sys: 1.84 s, total: 16.3 s\n",
      "Wall time: 16.4 s\n"
     ]
    }
   ],
   "source": [
    "%%time\n",
    "df = pd.read_csv('../input/mat_actions_clean.csv', sep = ',')\n",
    "#df.action_start = df.action_start.apply(lambda x: datetime.strptime(x[:10], '%Y-%m-%d'))"
   ]
  },
  {
   "cell_type": "code",
   "execution_count": 3,
   "metadata": {
    "_uuid": "c4624064322ae60cc03e65f85f697d9e2cdfd30e",
    "scrolled": false
   },
   "outputs": [
    {
     "data": {
      "text/html": [
       "<div>\n",
       "<style scoped>\n",
       "    .dataframe tbody tr th:only-of-type {\n",
       "        vertical-align: middle;\n",
       "    }\n",
       "\n",
       "    .dataframe tbody tr th {\n",
       "        vertical-align: top;\n",
       "    }\n",
       "\n",
       "    .dataframe thead th {\n",
       "        text-align: right;\n",
       "    }\n",
       "</style>\n",
       "<table border=\"1\" class=\"dataframe\">\n",
       "  <thead>\n",
       "    <tr style=\"text-align: right;\">\n",
       "      <th></th>\n",
       "      <th>action_id</th>\n",
       "      <th>material_type</th>\n",
       "      <th>material_id</th>\n",
       "      <th>user_id</th>\n",
       "      <th>average_rating</th>\n",
       "      <th>action_type</th>\n",
       "      <th>action_info</th>\n",
       "      <th>action_start</th>\n",
       "      <th>action_user_id</th>\n",
       "      <th>real_type</th>\n",
       "      <th>subject</th>\n",
       "      <th>ed_level</th>\n",
       "    </tr>\n",
       "  </thead>\n",
       "  <tbody>\n",
       "    <tr>\n",
       "      <th>0</th>\n",
       "      <td>0</td>\n",
       "      <td>AtomicObject</td>\n",
       "      <td>1182</td>\n",
       "      <td>425445.0</td>\n",
       "      <td>4.6</td>\n",
       "      <td>оценка</td>\n",
       "      <td>5</td>\n",
       "      <td>2015-07-17 13:22:47.446491</td>\n",
       "      <td>425445.0</td>\n",
       "      <td>текст</td>\n",
       "      <td>Физкультура</td>\n",
       "      <td>ООО</td>\n",
       "    </tr>\n",
       "    <tr>\n",
       "      <th>1</th>\n",
       "      <td>1</td>\n",
       "      <td>AtomicObject</td>\n",
       "      <td>1308</td>\n",
       "      <td>425445.0</td>\n",
       "      <td>4.0</td>\n",
       "      <td>оценка</td>\n",
       "      <td>5</td>\n",
       "      <td>2015-07-17 13:41:49.001476</td>\n",
       "      <td>425445.0</td>\n",
       "      <td>текст</td>\n",
       "      <td>Физкультура</td>\n",
       "      <td>ООО</td>\n",
       "    </tr>\n",
       "  </tbody>\n",
       "</table>\n",
       "</div>"
      ],
      "text/plain": [
       "   action_id material_type  material_id   ...     real_type      subject ed_level\n",
       "0          0  AtomicObject         1182   ...         текст  Физкультура      ООО\n",
       "1          1  AtomicObject         1308   ...         текст  Физкультура      ООО\n",
       "\n",
       "[2 rows x 12 columns]"
      ]
     },
     "execution_count": 3,
     "metadata": {},
     "output_type": "execute_result"
    }
   ],
   "source": [
    "df.head(2)"
   ]
  },
  {
   "cell_type": "code",
   "execution_count": 4,
   "metadata": {
    "_uuid": "11deaf35fac0c88aceec0af1f92820e0f40678a8"
   },
   "outputs": [],
   "source": [
    "from datetime import datetime\n",
    "\n",
    "df.action_start = df.action_start.apply(lambda x: datetime.strptime(x[:10], '%Y-%m-%d'))"
   ]
  },
  {
   "cell_type": "code",
   "execution_count": 5,
   "metadata": {
    "_uuid": "28811dbf8c34bd295161de261597afc603348d0c"
   },
   "outputs": [
    {
     "data": {
      "text/html": [
       "<div>\n",
       "<style scoped>\n",
       "    .dataframe tbody tr th:only-of-type {\n",
       "        vertical-align: middle;\n",
       "    }\n",
       "\n",
       "    .dataframe tbody tr th {\n",
       "        vertical-align: top;\n",
       "    }\n",
       "\n",
       "    .dataframe thead th {\n",
       "        text-align: right;\n",
       "    }\n",
       "</style>\n",
       "<table border=\"1\" class=\"dataframe\">\n",
       "  <thead>\n",
       "    <tr style=\"text-align: right;\">\n",
       "      <th></th>\n",
       "      <th>action_id</th>\n",
       "      <th>material_type</th>\n",
       "      <th>material_id</th>\n",
       "      <th>user_id</th>\n",
       "      <th>average_rating</th>\n",
       "      <th>action_type</th>\n",
       "      <th>action_info</th>\n",
       "      <th>action_start</th>\n",
       "      <th>action_user_id</th>\n",
       "      <th>real_type</th>\n",
       "      <th>subject</th>\n",
       "      <th>ed_level</th>\n",
       "    </tr>\n",
       "  </thead>\n",
       "  <tbody>\n",
       "    <tr>\n",
       "      <th>0</th>\n",
       "      <td>0</td>\n",
       "      <td>AtomicObject</td>\n",
       "      <td>1182</td>\n",
       "      <td>425445.0</td>\n",
       "      <td>4.6</td>\n",
       "      <td>оценка</td>\n",
       "      <td>5</td>\n",
       "      <td>2015-07-17</td>\n",
       "      <td>425445.0</td>\n",
       "      <td>текст</td>\n",
       "      <td>Физкультура</td>\n",
       "      <td>ООО</td>\n",
       "    </tr>\n",
       "    <tr>\n",
       "      <th>1</th>\n",
       "      <td>1</td>\n",
       "      <td>AtomicObject</td>\n",
       "      <td>1308</td>\n",
       "      <td>425445.0</td>\n",
       "      <td>4.0</td>\n",
       "      <td>оценка</td>\n",
       "      <td>5</td>\n",
       "      <td>2015-07-17</td>\n",
       "      <td>425445.0</td>\n",
       "      <td>текст</td>\n",
       "      <td>Физкультура</td>\n",
       "      <td>ООО</td>\n",
       "    </tr>\n",
       "  </tbody>\n",
       "</table>\n",
       "</div>"
      ],
      "text/plain": [
       "   action_id material_type  material_id   ...     real_type      subject ed_level\n",
       "0          0  AtomicObject         1182   ...         текст  Физкультура      ООО\n",
       "1          1  AtomicObject         1308   ...         текст  Физкультура      ООО\n",
       "\n",
       "[2 rows x 12 columns]"
      ]
     },
     "execution_count": 5,
     "metadata": {},
     "output_type": "execute_result"
    }
   ],
   "source": [
    "df.head(2)"
   ]
  },
  {
   "cell_type": "code",
   "execution_count": 6,
   "metadata": {
    "_uuid": "ce5f949c9f9cc310176dd1c892d29fcef7d3e52b"
   },
   "outputs": [
    {
     "name": "stdout",
     "output_type": "stream",
     "text": [
      "CPU times: user 3.06 s, sys: 192 ms, total: 3.25 s\n",
      "Wall time: 3.27 s\n"
     ]
    }
   ],
   "source": [
    "%%time\n",
    "mc = pd.read_csv('../input/material_cis_merge.csv', sep = ',')\n",
    "mc = mc.rename(columns = {'education_level': 'ed_level'}, index = str)"
   ]
  },
  {
   "cell_type": "code",
   "execution_count": 7,
   "metadata": {
    "_uuid": "3a38000b6cbbcda85ffac13d68454e3709110aee"
   },
   "outputs": [
    {
     "data": {
      "text/html": [
       "<div>\n",
       "<style scoped>\n",
       "    .dataframe tbody tr th:only-of-type {\n",
       "        vertical-align: middle;\n",
       "    }\n",
       "\n",
       "    .dataframe tbody tr th {\n",
       "        vertical-align: top;\n",
       "    }\n",
       "\n",
       "    .dataframe thead th {\n",
       "        text-align: right;\n",
       "    }\n",
       "</style>\n",
       "<table border=\"1\" class=\"dataframe\">\n",
       "  <thead>\n",
       "    <tr style=\"text-align: right;\">\n",
       "      <th></th>\n",
       "      <th>material_type</th>\n",
       "      <th>material_id</th>\n",
       "      <th>name</th>\n",
       "      <th>code</th>\n",
       "      <th>subject</th>\n",
       "      <th>ed_level</th>\n",
       "      <th>user_id</th>\n",
       "      <th>created_at</th>\n",
       "      <th>real_type</th>\n",
       "    </tr>\n",
       "  </thead>\n",
       "  <tbody>\n",
       "    <tr>\n",
       "      <th>0</th>\n",
       "      <td>AtomicObject</td>\n",
       "      <td>38</td>\n",
       "      <td>История и современное развитие физической куль...</td>\n",
       "      <td>1</td>\n",
       "      <td>Физическая культура</td>\n",
       "      <td>ООО</td>\n",
       "      <td>423768.0</td>\n",
       "      <td>2015-04-24 12:00:51.054082</td>\n",
       "      <td>изображение</td>\n",
       "    </tr>\n",
       "    <tr>\n",
       "      <th>1</th>\n",
       "      <td>AtomicObject</td>\n",
       "      <td>39</td>\n",
       "      <td>История и современное развитие физической куль...</td>\n",
       "      <td>1</td>\n",
       "      <td>Физическая культура</td>\n",
       "      <td>ООО</td>\n",
       "      <td>423768.0</td>\n",
       "      <td>2015-04-24 12:00:54.291523</td>\n",
       "      <td>изображение</td>\n",
       "    </tr>\n",
       "  </tbody>\n",
       "</table>\n",
       "</div>"
      ],
      "text/plain": [
       "  material_type     ...         real_type\n",
       "0  AtomicObject     ...       изображение\n",
       "1  AtomicObject     ...       изображение\n",
       "\n",
       "[2 rows x 9 columns]"
      ]
     },
     "execution_count": 7,
     "metadata": {},
     "output_type": "execute_result"
    }
   ],
   "source": [
    "mc.head(2)"
   ]
  },
  {
   "cell_type": "code",
   "execution_count": 8,
   "metadata": {
    "_uuid": "76f020ac176e9bd3bef442323f40636e553d9027"
   },
   "outputs": [],
   "source": [
    "lp = pd.read_csv('../input/lesson_plans.csv', sep = ',')"
   ]
  },
  {
   "cell_type": "code",
   "execution_count": 9,
   "metadata": {
    "_uuid": "c163992b557af7a1d88ece14b470f24e023acc3e"
   },
   "outputs": [
    {
     "data": {
      "text/html": [
       "<div>\n",
       "<style scoped>\n",
       "    .dataframe tbody tr th:only-of-type {\n",
       "        vertical-align: middle;\n",
       "    }\n",
       "\n",
       "    .dataframe tbody tr th {\n",
       "        vertical-align: top;\n",
       "    }\n",
       "\n",
       "    .dataframe thead th {\n",
       "        text-align: right;\n",
       "    }\n",
       "</style>\n",
       "<table border=\"1\" class=\"dataframe\">\n",
       "  <thead>\n",
       "    <tr style=\"text-align: right;\">\n",
       "      <th></th>\n",
       "      <th>lesson_id</th>\n",
       "      <th>teacher_id</th>\n",
       "      <th>date</th>\n",
       "      <th>subject</th>\n",
       "      <th>ed_level</th>\n",
       "      <th>code</th>\n",
       "      <th>cis</th>\n",
       "    </tr>\n",
       "  </thead>\n",
       "  <tbody>\n",
       "    <tr>\n",
       "      <th>0</th>\n",
       "      <td>74934616</td>\n",
       "      <td>4145840</td>\n",
       "      <td>2018-09-04</td>\n",
       "      <td>Изобразительное искусство</td>\n",
       "      <td>НОО</td>\n",
       "      <td>1.2</td>\n",
       "      <td>Рисунок</td>\n",
       "    </tr>\n",
       "    <tr>\n",
       "      <th>1</th>\n",
       "      <td>74934661</td>\n",
       "      <td>4145840</td>\n",
       "      <td>2018-09-11</td>\n",
       "      <td>Изобразительное искусство</td>\n",
       "      <td>НОО</td>\n",
       "      <td>1.1</td>\n",
       "      <td>Восприятие произведений искусства</td>\n",
       "    </tr>\n",
       "  </tbody>\n",
       "</table>\n",
       "</div>"
      ],
      "text/plain": [
       "   lesson_id                ...                                                cis\n",
       "0   74934616                ...                                            Рисунок\n",
       "1   74934661                ...                  Восприятие произведений искусства\n",
       "\n",
       "[2 rows x 7 columns]"
      ]
     },
     "execution_count": 9,
     "metadata": {},
     "output_type": "execute_result"
    }
   ],
   "source": [
    "lp.head(2)"
   ]
  },
  {
   "cell_type": "code",
   "execution_count": 10,
   "metadata": {
    "_uuid": "f02ff8d9eb3cf2e6e5a68978fbfb785861a505f7"
   },
   "outputs": [
    {
     "data": {
      "text/plain": [
       "(6199645, 7)"
      ]
     },
     "execution_count": 10,
     "metadata": {},
     "output_type": "execute_result"
    }
   ],
   "source": [
    "lp.shape"
   ]
  },
  {
   "cell_type": "code",
   "execution_count": 11,
   "metadata": {
    "_uuid": "9ce479ccc0f61559885864e51c672c00af7ac142"
   },
   "outputs": [
    {
     "data": {
      "text/plain": [
       "(19202,)"
      ]
     },
     "execution_count": 11,
     "metadata": {},
     "output_type": "execute_result"
    }
   ],
   "source": [
    "lp.teacher_id.unique().shape"
   ]
  },
  {
   "cell_type": "code",
   "execution_count": 12,
   "metadata": {
    "_uuid": "cbe86d61b37229544e3a6e4b118b75b08e4f93ea"
   },
   "outputs": [
    {
     "data": {
      "text/plain": [
       "(506,)"
      ]
     },
     "execution_count": 12,
     "metadata": {},
     "output_type": "execute_result"
    }
   ],
   "source": [
    "df[df.action_user_id.isin(lp.teacher_id.unique())].action_user_id.unique().shape"
   ]
  },
  {
   "cell_type": "code",
   "execution_count": 13,
   "metadata": {
    "_uuid": "27e6b693446728ea5d75ed26e0c8149e7ba0c312"
   },
   "outputs": [
    {
     "data": {
      "text/plain": [
       "(175503,)"
      ]
     },
     "execution_count": 13,
     "metadata": {},
     "output_type": "execute_result"
    }
   ],
   "source": [
    "df.action_user_id.unique().shape"
   ]
  },
  {
   "cell_type": "code",
   "execution_count": 14,
   "metadata": {
    "_uuid": "4d5171b0464c34bb0123dc02a43618c530fcd216"
   },
   "outputs": [],
   "source": [
    "lp.date = lp.date.apply(lambda x: datetime.strptime(x, '%Y-%m-%d'))"
   ]
  },
  {
   "cell_type": "code",
   "execution_count": 15,
   "metadata": {
    "_uuid": "68cfd0284fc8d3689a2a8147cdd1ff4953ac6be0"
   },
   "outputs": [
    {
     "data": {
      "text/html": [
       "<div>\n",
       "<style scoped>\n",
       "    .dataframe tbody tr th:only-of-type {\n",
       "        vertical-align: middle;\n",
       "    }\n",
       "\n",
       "    .dataframe tbody tr th {\n",
       "        vertical-align: top;\n",
       "    }\n",
       "\n",
       "    .dataframe thead th {\n",
       "        text-align: right;\n",
       "    }\n",
       "</style>\n",
       "<table border=\"1\" class=\"dataframe\">\n",
       "  <thead>\n",
       "    <tr style=\"text-align: right;\">\n",
       "      <th></th>\n",
       "      <th>lesson_id</th>\n",
       "      <th>teacher_id</th>\n",
       "      <th>date</th>\n",
       "      <th>subject</th>\n",
       "      <th>ed_level</th>\n",
       "      <th>code</th>\n",
       "      <th>cis</th>\n",
       "    </tr>\n",
       "  </thead>\n",
       "  <tbody>\n",
       "    <tr>\n",
       "      <th>0</th>\n",
       "      <td>74934616</td>\n",
       "      <td>4145840</td>\n",
       "      <td>2018-09-04</td>\n",
       "      <td>Изобразительное искусство</td>\n",
       "      <td>НОО</td>\n",
       "      <td>1.2</td>\n",
       "      <td>Рисунок</td>\n",
       "    </tr>\n",
       "    <tr>\n",
       "      <th>1</th>\n",
       "      <td>74934661</td>\n",
       "      <td>4145840</td>\n",
       "      <td>2018-09-11</td>\n",
       "      <td>Изобразительное искусство</td>\n",
       "      <td>НОО</td>\n",
       "      <td>1.1</td>\n",
       "      <td>Восприятие произведений искусства</td>\n",
       "    </tr>\n",
       "  </tbody>\n",
       "</table>\n",
       "</div>"
      ],
      "text/plain": [
       "   lesson_id                ...                                                cis\n",
       "0   74934616                ...                                            Рисунок\n",
       "1   74934661                ...                  Восприятие произведений искусства\n",
       "\n",
       "[2 rows x 7 columns]"
      ]
     },
     "execution_count": 15,
     "metadata": {},
     "output_type": "execute_result"
    }
   ],
   "source": [
    "lp.head(2)"
   ]
  },
  {
   "cell_type": "markdown",
   "metadata": {
    "_uuid": "4daf569c8a1576685b99546a6561e12ce551c7bc"
   },
   "source": [
    "#### Добавляем столбцы со значениями номера недели и года"
   ]
  },
  {
   "cell_type": "code",
   "execution_count": 16,
   "metadata": {
    "_uuid": "ccd9b7fa20e5ce4b0a9b4a8700f1e84ca1bf7598"
   },
   "outputs": [],
   "source": [
    "lp['week_num'] = lp.date.apply(lambda x: x.isocalendar()[1])\n",
    "lp['year_num'] = lp.date.apply(lambda x: x.isocalendar()[0])"
   ]
  },
  {
   "cell_type": "code",
   "execution_count": 17,
   "metadata": {
    "_uuid": "3de03ea6502de0486df759b950bc6f3c6c44e90f"
   },
   "outputs": [
    {
     "data": {
      "text/html": [
       "<div>\n",
       "<style scoped>\n",
       "    .dataframe tbody tr th:only-of-type {\n",
       "        vertical-align: middle;\n",
       "    }\n",
       "\n",
       "    .dataframe tbody tr th {\n",
       "        vertical-align: top;\n",
       "    }\n",
       "\n",
       "    .dataframe thead th {\n",
       "        text-align: right;\n",
       "    }\n",
       "</style>\n",
       "<table border=\"1\" class=\"dataframe\">\n",
       "  <thead>\n",
       "    <tr style=\"text-align: right;\">\n",
       "      <th></th>\n",
       "      <th>lesson_id</th>\n",
       "      <th>teacher_id</th>\n",
       "      <th>date</th>\n",
       "      <th>subject</th>\n",
       "      <th>ed_level</th>\n",
       "      <th>code</th>\n",
       "      <th>cis</th>\n",
       "      <th>week_num</th>\n",
       "      <th>year_num</th>\n",
       "    </tr>\n",
       "  </thead>\n",
       "  <tbody>\n",
       "    <tr>\n",
       "      <th>0</th>\n",
       "      <td>74934616</td>\n",
       "      <td>4145840</td>\n",
       "      <td>2018-09-04</td>\n",
       "      <td>Изобразительное искусство</td>\n",
       "      <td>НОО</td>\n",
       "      <td>1.2</td>\n",
       "      <td>Рисунок</td>\n",
       "      <td>36</td>\n",
       "      <td>2018</td>\n",
       "    </tr>\n",
       "    <tr>\n",
       "      <th>1</th>\n",
       "      <td>74934661</td>\n",
       "      <td>4145840</td>\n",
       "      <td>2018-09-11</td>\n",
       "      <td>Изобразительное искусство</td>\n",
       "      <td>НОО</td>\n",
       "      <td>1.1</td>\n",
       "      <td>Восприятие произведений искусства</td>\n",
       "      <td>37</td>\n",
       "      <td>2018</td>\n",
       "    </tr>\n",
       "  </tbody>\n",
       "</table>\n",
       "</div>"
      ],
      "text/plain": [
       "   lesson_id  teacher_id   ...    week_num year_num\n",
       "0   74934616     4145840   ...          36     2018\n",
       "1   74934661     4145840   ...          37     2018\n",
       "\n",
       "[2 rows x 9 columns]"
      ]
     },
     "execution_count": 17,
     "metadata": {},
     "output_type": "execute_result"
    }
   ],
   "source": [
    "lp.head(2)"
   ]
  },
  {
   "cell_type": "code",
   "execution_count": 18,
   "metadata": {
    "_uuid": "2cd8ce6a41d91ffcef3d25c7b3a716542714f987"
   },
   "outputs": [],
   "source": [
    "rec_week_num = 43"
   ]
  },
  {
   "cell_type": "markdown",
   "metadata": {
    "_uuid": "396cbba080d202c11b008035c0073c9113d8c5d8"
   },
   "source": [
    "#### Создаём таблицу, в которой будут значения, соответствующие запрашиваемой недели"
   ]
  },
  {
   "cell_type": "code",
   "execution_count": 19,
   "metadata": {
    "_uuid": "1b44053f7efd13582053b4b218216c9bada1149e"
   },
   "outputs": [
    {
     "data": {
      "text/html": [
       "<div>\n",
       "<style scoped>\n",
       "    .dataframe tbody tr th:only-of-type {\n",
       "        vertical-align: middle;\n",
       "    }\n",
       "\n",
       "    .dataframe tbody tr th {\n",
       "        vertical-align: top;\n",
       "    }\n",
       "\n",
       "    .dataframe thead th {\n",
       "        text-align: right;\n",
       "    }\n",
       "</style>\n",
       "<table border=\"1\" class=\"dataframe\">\n",
       "  <thead>\n",
       "    <tr style=\"text-align: right;\">\n",
       "      <th></th>\n",
       "      <th>teacher_id</th>\n",
       "      <th>code</th>\n",
       "      <th>cis</th>\n",
       "      <th>subject</th>\n",
       "      <th>ed_level</th>\n",
       "    </tr>\n",
       "  </thead>\n",
       "  <tbody>\n",
       "    <tr>\n",
       "      <th>0</th>\n",
       "      <td>49</td>\n",
       "      <td>4.1.7</td>\n",
       "      <td>Лингвистические словари. Работа со словарной с...</td>\n",
       "      <td>Русский язык</td>\n",
       "      <td>ООО</td>\n",
       "    </tr>\n",
       "    <tr>\n",
       "      <th>1</th>\n",
       "      <td>49</td>\n",
       "      <td>4.1.8</td>\n",
       "      <td>Выдающиеся отечественные лингвисты.</td>\n",
       "      <td>Русский язык</td>\n",
       "      <td>ООО</td>\n",
       "    </tr>\n",
       "  </tbody>\n",
       "</table>\n",
       "</div>"
      ],
      "text/plain": [
       "   teacher_id   code   ...          subject ed_level\n",
       "0          49  4.1.7   ...     Русский язык      ООО\n",
       "1          49  4.1.8   ...     Русский язык      ООО\n",
       "\n",
       "[2 rows x 5 columns]"
      ]
     },
     "execution_count": 19,
     "metadata": {},
     "output_type": "execute_result"
    }
   ],
   "source": [
    "tmp = lp.loc[lp.week_num == rec_week_num, ['teacher_id', 'code', 'cis', 'week_num', 'subject', 'ed_level']\n",
    "            ].groupby(['teacher_id', 'code', 'cis', 'subject', 'ed_level']).count().reset_index().iloc[:, :5]\n",
    "tmp = tmp[tmp.code.apply(lambda x: len(str(x)) > 2)]\n",
    "tmp.head(2)"
   ]
  },
  {
   "cell_type": "markdown",
   "metadata": {
    "_uuid": "ea669b041e4247b300a959d0e454275aca23d3b7"
   },
   "source": [
    "#### Создаём таблицу со значениями оценок и количестве голосов оценивания"
   ]
  },
  {
   "cell_type": "code",
   "execution_count": 102,
   "metadata": {
    "_uuid": "6417206dfbb47efb9227f57a86d342c5c74a643b"
   },
   "outputs": [
    {
     "name": "stdout",
     "output_type": "stream",
     "text": [
      "CPU times: user 3.45 s, sys: 8 ms, total: 3.46 s\n",
      "Wall time: 3.45 s\n"
     ]
    }
   ],
   "source": [
    "%%time\n",
    "# Создаём таблицу со значениями оценок и количества голосов оценивания\n",
    "\n",
    "marks = df.loc[df.action_type == 'оценка', ['material_id', 'material_type', 'action_id', 'action_info']]\n",
    "marks.action_info = marks.action_info.apply(float)\n",
    "marks = marks.groupby(['material_id', 'material_type', 'action_id']).max().reset_index()\n",
    "marks = pd.merge(marks.groupby(['material_id', 'material_type']).action_info.mean().reset_index(),\n",
    "                 marks.groupby(['material_id', 'material_type']).action_id.count().reset_index(),\n",
    "                 how = 'inner', on = ['material_id', 'material_type']\n",
    "                ).rename(columns = {'action_info': 'avg_rating', 'action_id': 'marks_qty'}, index = str)"
   ]
  },
  {
   "cell_type": "code",
   "execution_count": 21,
   "metadata": {
    "_uuid": "7fa6820619678c09fb7f5e31710c8a66dc5d1e71",
    "scrolled": true
   },
   "outputs": [
    {
     "data": {
      "text/html": [
       "<div>\n",
       "<style scoped>\n",
       "    .dataframe tbody tr th:only-of-type {\n",
       "        vertical-align: middle;\n",
       "    }\n",
       "\n",
       "    .dataframe tbody tr th {\n",
       "        vertical-align: top;\n",
       "    }\n",
       "\n",
       "    .dataframe thead th {\n",
       "        text-align: right;\n",
       "    }\n",
       "</style>\n",
       "<table border=\"1\" class=\"dataframe\">\n",
       "  <thead>\n",
       "    <tr style=\"text-align: right;\">\n",
       "      <th></th>\n",
       "      <th>material_id</th>\n",
       "      <th>material_type</th>\n",
       "      <th>avg_rating</th>\n",
       "      <th>marks_qty</th>\n",
       "    </tr>\n",
       "  </thead>\n",
       "  <tbody>\n",
       "    <tr>\n",
       "      <th>0</th>\n",
       "      <td>1</td>\n",
       "      <td>Book</td>\n",
       "      <td>5.0</td>\n",
       "      <td>3</td>\n",
       "    </tr>\n",
       "    <tr>\n",
       "      <th>1</th>\n",
       "      <td>2</td>\n",
       "      <td>Book</td>\n",
       "      <td>5.0</td>\n",
       "      <td>3</td>\n",
       "    </tr>\n",
       "  </tbody>\n",
       "</table>\n",
       "</div>"
      ],
      "text/plain": [
       "   material_id material_type  avg_rating  marks_qty\n",
       "0            1          Book         5.0          3\n",
       "1            2          Book         5.0          3"
      ]
     },
     "execution_count": 21,
     "metadata": {},
     "output_type": "execute_result"
    }
   ],
   "source": [
    "marks.head(2)"
   ]
  },
  {
   "cell_type": "markdown",
   "metadata": {
    "_uuid": "f4026504398fd2cab824590d75bd68bffcb046d0"
   },
   "source": [
    "Смотрим на среднюю оценку"
   ]
  },
  {
   "cell_type": "code",
   "execution_count": 22,
   "metadata": {
    "_uuid": "4c3b97eab43736393a3a639785cd9ea043b8174f"
   },
   "outputs": [
    {
     "data": {
      "text/html": [
       "<div>\n",
       "<style scoped>\n",
       "    .dataframe tbody tr th:only-of-type {\n",
       "        vertical-align: middle;\n",
       "    }\n",
       "\n",
       "    .dataframe tbody tr th {\n",
       "        vertical-align: top;\n",
       "    }\n",
       "\n",
       "    .dataframe thead th {\n",
       "        text-align: right;\n",
       "    }\n",
       "</style>\n",
       "<table border=\"1\" class=\"dataframe\">\n",
       "  <thead>\n",
       "    <tr style=\"text-align: right;\">\n",
       "      <th></th>\n",
       "      <th>material_type</th>\n",
       "      <th>material_id</th>\n",
       "      <th>avg_rating</th>\n",
       "      <th>marks_qty</th>\n",
       "    </tr>\n",
       "  </thead>\n",
       "  <tbody>\n",
       "    <tr>\n",
       "      <th>0</th>\n",
       "      <td>AtomicObject</td>\n",
       "      <td>10059</td>\n",
       "      <td>3.000000</td>\n",
       "      <td>2</td>\n",
       "    </tr>\n",
       "    <tr>\n",
       "      <th>1</th>\n",
       "      <td>AtomicObject</td>\n",
       "      <td>47352</td>\n",
       "      <td>4.000000</td>\n",
       "      <td>1</td>\n",
       "    </tr>\n",
       "    <tr>\n",
       "      <th>2</th>\n",
       "      <td>AtomicObject</td>\n",
       "      <td>108058</td>\n",
       "      <td>4.000000</td>\n",
       "      <td>1</td>\n",
       "    </tr>\n",
       "    <tr>\n",
       "      <th>3</th>\n",
       "      <td>AtomicObject</td>\n",
       "      <td>369173</td>\n",
       "      <td>3.666667</td>\n",
       "      <td>3</td>\n",
       "    </tr>\n",
       "    <tr>\n",
       "      <th>4</th>\n",
       "      <td>AtomicObject</td>\n",
       "      <td>377286</td>\n",
       "      <td>5.000000</td>\n",
       "      <td>3</td>\n",
       "    </tr>\n",
       "  </tbody>\n",
       "</table>\n",
       "</div>"
      ],
      "text/plain": [
       "  material_type  material_id  avg_rating  marks_qty\n",
       "0  AtomicObject        10059    3.000000          2\n",
       "1  AtomicObject        47352    4.000000          1\n",
       "2  AtomicObject       108058    4.000000          1\n",
       "3  AtomicObject       369173    3.666667          3\n",
       "4  AtomicObject       377286    5.000000          3"
      ]
     },
     "execution_count": 22,
     "metadata": {},
     "output_type": "execute_result"
    }
   ],
   "source": [
    "teacher_id = 49\n",
    "rec = pd.merge(pd.merge(tmp.loc[tmp.teacher_id == teacher_id, ['teacher_id', 'code', 'ed_level', 'subject']], mc, \n",
    "                        how = 'inner', on = ['code', 'ed_level', 'subject']\n",
    "                       ).groupby(['material_type', 'material_id']).user_id.count().reset_index().iloc[:, :2], \n",
    "               marks, how = 'inner', on = ['material_type', 'material_id'])\n",
    "rec.head(5)"
   ]
  },
  {
   "cell_type": "markdown",
   "metadata": {
    "_uuid": "037623b6eaba1c2ee213fece9aa0f0d698adf49f"
   },
   "source": [
    "#### можно посмотреть что будет если поменять принцип ранжирования, например на тот что снизу\n",
    "#rec.sort_values(by = ['marks_qty', 'avg_rating'], ascending = False).head(10)"
   ]
  },
  {
   "cell_type": "markdown",
   "metadata": {
    "_uuid": "17b392cffca00bfb2dbc3d0fcd319c40b3c56802"
   },
   "source": [
    "#### Ранжируем их по принципу самые высокие и высоко оцениваемые материалы"
   ]
  },
  {
   "cell_type": "code",
   "execution_count": 23,
   "metadata": {
    "_uuid": "5386a84c4f5f23bca6320d7f298351f0173f9221"
   },
   "outputs": [
    {
     "data": {
      "text/html": [
       "<div>\n",
       "<style scoped>\n",
       "    .dataframe tbody tr th:only-of-type {\n",
       "        vertical-align: middle;\n",
       "    }\n",
       "\n",
       "    .dataframe tbody tr th {\n",
       "        vertical-align: top;\n",
       "    }\n",
       "\n",
       "    .dataframe thead th {\n",
       "        text-align: right;\n",
       "    }\n",
       "</style>\n",
       "<table border=\"1\" class=\"dataframe\">\n",
       "  <thead>\n",
       "    <tr style=\"text-align: right;\">\n",
       "      <th></th>\n",
       "      <th>material_type</th>\n",
       "      <th>material_id</th>\n",
       "      <th>avg_rating</th>\n",
       "      <th>marks_qty</th>\n",
       "    </tr>\n",
       "  </thead>\n",
       "  <tbody>\n",
       "    <tr>\n",
       "      <th>83</th>\n",
       "      <td>AtomicObject</td>\n",
       "      <td>1131825</td>\n",
       "      <td>5.0</td>\n",
       "      <td>46</td>\n",
       "    </tr>\n",
       "    <tr>\n",
       "      <th>78</th>\n",
       "      <td>AtomicObject</td>\n",
       "      <td>1131804</td>\n",
       "      <td>5.0</td>\n",
       "      <td>45</td>\n",
       "    </tr>\n",
       "    <tr>\n",
       "      <th>80</th>\n",
       "      <td>AtomicObject</td>\n",
       "      <td>1131810</td>\n",
       "      <td>5.0</td>\n",
       "      <td>43</td>\n",
       "    </tr>\n",
       "    <tr>\n",
       "      <th>89</th>\n",
       "      <td>AtomicObject</td>\n",
       "      <td>1131851</td>\n",
       "      <td>5.0</td>\n",
       "      <td>43</td>\n",
       "    </tr>\n",
       "    <tr>\n",
       "      <th>79</th>\n",
       "      <td>AtomicObject</td>\n",
       "      <td>1131807</td>\n",
       "      <td>5.0</td>\n",
       "      <td>42</td>\n",
       "    </tr>\n",
       "    <tr>\n",
       "      <th>85</th>\n",
       "      <td>AtomicObject</td>\n",
       "      <td>1131830</td>\n",
       "      <td>5.0</td>\n",
       "      <td>42</td>\n",
       "    </tr>\n",
       "    <tr>\n",
       "      <th>20</th>\n",
       "      <td>AtomicObject</td>\n",
       "      <td>430836</td>\n",
       "      <td>5.0</td>\n",
       "      <td>41</td>\n",
       "    </tr>\n",
       "    <tr>\n",
       "      <th>81</th>\n",
       "      <td>AtomicObject</td>\n",
       "      <td>1131811</td>\n",
       "      <td>5.0</td>\n",
       "      <td>41</td>\n",
       "    </tr>\n",
       "    <tr>\n",
       "      <th>84</th>\n",
       "      <td>AtomicObject</td>\n",
       "      <td>1131828</td>\n",
       "      <td>5.0</td>\n",
       "      <td>41</td>\n",
       "    </tr>\n",
       "    <tr>\n",
       "      <th>88</th>\n",
       "      <td>AtomicObject</td>\n",
       "      <td>1131848</td>\n",
       "      <td>5.0</td>\n",
       "      <td>41</td>\n",
       "    </tr>\n",
       "  </tbody>\n",
       "</table>\n",
       "</div>"
      ],
      "text/plain": [
       "   material_type  material_id  avg_rating  marks_qty\n",
       "83  AtomicObject      1131825         5.0         46\n",
       "78  AtomicObject      1131804         5.0         45\n",
       "80  AtomicObject      1131810         5.0         43\n",
       "89  AtomicObject      1131851         5.0         43\n",
       "79  AtomicObject      1131807         5.0         42\n",
       "85  AtomicObject      1131830         5.0         42\n",
       "20  AtomicObject       430836         5.0         41\n",
       "81  AtomicObject      1131811         5.0         41\n",
       "84  AtomicObject      1131828         5.0         41\n",
       "88  AtomicObject      1131848         5.0         41"
      ]
     },
     "execution_count": 23,
     "metadata": {},
     "output_type": "execute_result"
    }
   ],
   "source": [
    "rec.sort_values(by = ['avg_rating', 'marks_qty'], ascending = False).head(10)"
   ]
  },
  {
   "cell_type": "markdown",
   "metadata": {
    "_uuid": "b61f050fddac2d936db0e99c6174d459cc6cbaf1"
   },
   "source": [
    "### Создаём функцию, для подбора рекомендаций материала"
   ]
  },
  {
   "cell_type": "code",
   "execution_count": 24,
   "metadata": {
    "_uuid": "2354db236a6c1b86f9be7c908dab083846dda3bc"
   },
   "outputs": [],
   "source": [
    "def make_recom_by_les_plan(rec_week_num, rec_week_year, teacher_id):\n",
    "    tmp = lp.loc[(lp.week_num == rec_week_num) & (lp.year_num == rec_week_year), \n",
    "                 ['teacher_id', 'code', 'cis', 'week_num', 'subject', 'ed_level']\n",
    "                ].groupby(['teacher_id', 'code', 'cis', 'subject', 'ed_level']).count().reset_index().iloc[:, :5]\n",
    "    tmp = tmp[tmp.code.apply(lambda x: len(str(x)) > 2)]\n",
    "    rec = pd.merge(pd.merge(tmp.loc[tmp.teacher_id == teacher_id, ['teacher_id', 'code', 'ed_level', 'subject']], \n",
    "                            mc, how = 'inner', on = ['code', 'ed_level', 'subject']\n",
    "                           ).groupby(['material_type', 'material_id']).user_id.count().reset_index().iloc[:, :2], \n",
    "                   marks, how = 'inner', on = ['material_type', 'material_id'])\n",
    "    return rec.sort_values(by = ['avg_rating', 'marks_qty'], ascending = False).head(10)"
   ]
  },
  {
   "cell_type": "code",
   "execution_count": 25,
   "metadata": {
    "_uuid": "1099189306cc0ba97516a957d57b58250ddddfd3"
   },
   "outputs": [
    {
     "name": "stdout",
     "output_type": "stream",
     "text": [
      "CPU times: user 716 ms, sys: 108 ms, total: 824 ms\n",
      "Wall time: 823 ms\n"
     ]
    },
    {
     "data": {
      "text/html": [
       "<div>\n",
       "<style scoped>\n",
       "    .dataframe tbody tr th:only-of-type {\n",
       "        vertical-align: middle;\n",
       "    }\n",
       "\n",
       "    .dataframe tbody tr th {\n",
       "        vertical-align: top;\n",
       "    }\n",
       "\n",
       "    .dataframe thead th {\n",
       "        text-align: right;\n",
       "    }\n",
       "</style>\n",
       "<table border=\"1\" class=\"dataframe\">\n",
       "  <thead>\n",
       "    <tr style=\"text-align: right;\">\n",
       "      <th></th>\n",
       "      <th>material_type</th>\n",
       "      <th>material_id</th>\n",
       "      <th>avg_rating</th>\n",
       "      <th>marks_qty</th>\n",
       "    </tr>\n",
       "  </thead>\n",
       "  <tbody>\n",
       "    <tr>\n",
       "      <th>83</th>\n",
       "      <td>AtomicObject</td>\n",
       "      <td>1131825</td>\n",
       "      <td>5.0</td>\n",
       "      <td>46</td>\n",
       "    </tr>\n",
       "    <tr>\n",
       "      <th>78</th>\n",
       "      <td>AtomicObject</td>\n",
       "      <td>1131804</td>\n",
       "      <td>5.0</td>\n",
       "      <td>45</td>\n",
       "    </tr>\n",
       "    <tr>\n",
       "      <th>80</th>\n",
       "      <td>AtomicObject</td>\n",
       "      <td>1131810</td>\n",
       "      <td>5.0</td>\n",
       "      <td>43</td>\n",
       "    </tr>\n",
       "    <tr>\n",
       "      <th>89</th>\n",
       "      <td>AtomicObject</td>\n",
       "      <td>1131851</td>\n",
       "      <td>5.0</td>\n",
       "      <td>43</td>\n",
       "    </tr>\n",
       "    <tr>\n",
       "      <th>79</th>\n",
       "      <td>AtomicObject</td>\n",
       "      <td>1131807</td>\n",
       "      <td>5.0</td>\n",
       "      <td>42</td>\n",
       "    </tr>\n",
       "    <tr>\n",
       "      <th>85</th>\n",
       "      <td>AtomicObject</td>\n",
       "      <td>1131830</td>\n",
       "      <td>5.0</td>\n",
       "      <td>42</td>\n",
       "    </tr>\n",
       "    <tr>\n",
       "      <th>20</th>\n",
       "      <td>AtomicObject</td>\n",
       "      <td>430836</td>\n",
       "      <td>5.0</td>\n",
       "      <td>41</td>\n",
       "    </tr>\n",
       "    <tr>\n",
       "      <th>81</th>\n",
       "      <td>AtomicObject</td>\n",
       "      <td>1131811</td>\n",
       "      <td>5.0</td>\n",
       "      <td>41</td>\n",
       "    </tr>\n",
       "    <tr>\n",
       "      <th>84</th>\n",
       "      <td>AtomicObject</td>\n",
       "      <td>1131828</td>\n",
       "      <td>5.0</td>\n",
       "      <td>41</td>\n",
       "    </tr>\n",
       "    <tr>\n",
       "      <th>88</th>\n",
       "      <td>AtomicObject</td>\n",
       "      <td>1131848</td>\n",
       "      <td>5.0</td>\n",
       "      <td>41</td>\n",
       "    </tr>\n",
       "  </tbody>\n",
       "</table>\n",
       "</div>"
      ],
      "text/plain": [
       "   material_type  material_id  avg_rating  marks_qty\n",
       "83  AtomicObject      1131825         5.0         46\n",
       "78  AtomicObject      1131804         5.0         45\n",
       "80  AtomicObject      1131810         5.0         43\n",
       "89  AtomicObject      1131851         5.0         43\n",
       "79  AtomicObject      1131807         5.0         42\n",
       "85  AtomicObject      1131830         5.0         42\n",
       "20  AtomicObject       430836         5.0         41\n",
       "81  AtomicObject      1131811         5.0         41\n",
       "84  AtomicObject      1131828         5.0         41\n",
       "88  AtomicObject      1131848         5.0         41"
      ]
     },
     "execution_count": 25,
     "metadata": {},
     "output_type": "execute_result"
    }
   ],
   "source": [
    "%%time\n",
    "make_recom_by_les_plan(43, 2018, 49)"
   ]
  },
  {
   "cell_type": "markdown",
   "metadata": {
    "_uuid": "d3f2a8c12a9a9eb60db6858ee022f18f2f780cfe"
   },
   "source": [
    "#### Разбираемся с учителями, не имеющими поурочных планов"
   ]
  },
  {
   "cell_type": "code",
   "execution_count": 26,
   "metadata": {
    "_uuid": "20a0297ab9ca72f67b1bbceac58088b471af8985"
   },
   "outputs": [
    {
     "data": {
      "text/plain": [
       "array([  425445.,   425471.,   442589., ..., 12207477.,  5455196.,\n",
       "        4725729.])"
      ]
     },
     "execution_count": 26,
     "metadata": {},
     "output_type": "execute_result"
    }
   ],
   "source": [
    "df[~df.action_user_id.isin(lp.teacher_id.unique())].action_user_id.unique()"
   ]
  },
  {
   "cell_type": "code",
   "execution_count": 27,
   "metadata": {
    "_uuid": "1045d27e53cdbed16380bf606acd3f06571fc6eb"
   },
   "outputs": [
    {
     "data": {
      "text/html": [
       "<div>\n",
       "<style scoped>\n",
       "    .dataframe tbody tr th:only-of-type {\n",
       "        vertical-align: middle;\n",
       "    }\n",
       "\n",
       "    .dataframe tbody tr th {\n",
       "        vertical-align: top;\n",
       "    }\n",
       "\n",
       "    .dataframe thead th {\n",
       "        text-align: right;\n",
       "    }\n",
       "</style>\n",
       "<table border=\"1\" class=\"dataframe\">\n",
       "  <thead>\n",
       "    <tr style=\"text-align: right;\">\n",
       "      <th></th>\n",
       "      <th>lesson_id</th>\n",
       "      <th>teacher_id</th>\n",
       "      <th>date</th>\n",
       "      <th>subject</th>\n",
       "      <th>ed_level</th>\n",
       "      <th>code</th>\n",
       "      <th>cis</th>\n",
       "      <th>week_num</th>\n",
       "      <th>year_num</th>\n",
       "    </tr>\n",
       "  </thead>\n",
       "  <tbody>\n",
       "  </tbody>\n",
       "</table>\n",
       "</div>"
      ],
      "text/plain": [
       "Empty DataFrame\n",
       "Columns: [lesson_id, teacher_id, date, subject, ed_level, code, cis, week_num, year_num]\n",
       "Index: []"
      ]
     },
     "execution_count": 27,
     "metadata": {},
     "output_type": "execute_result"
    }
   ],
   "source": [
    "lp[lp.teacher_id == 425445]"
   ]
  },
  {
   "cell_type": "code",
   "execution_count": 28,
   "metadata": {
    "_uuid": "7195d5503099d95afd3564411af09947262f16a8"
   },
   "outputs": [
    {
     "data": {
      "text/html": [
       "<div>\n",
       "<style scoped>\n",
       "    .dataframe tbody tr th:only-of-type {\n",
       "        vertical-align: middle;\n",
       "    }\n",
       "\n",
       "    .dataframe tbody tr th {\n",
       "        vertical-align: top;\n",
       "    }\n",
       "\n",
       "    .dataframe thead th {\n",
       "        text-align: right;\n",
       "    }\n",
       "</style>\n",
       "<table border=\"1\" class=\"dataframe\">\n",
       "  <thead>\n",
       "    <tr style=\"text-align: right;\">\n",
       "      <th></th>\n",
       "      <th>action_id</th>\n",
       "      <th>material_type</th>\n",
       "      <th>material_id</th>\n",
       "      <th>user_id</th>\n",
       "      <th>average_rating</th>\n",
       "      <th>action_type</th>\n",
       "      <th>action_info</th>\n",
       "      <th>action_start</th>\n",
       "      <th>action_user_id</th>\n",
       "      <th>real_type</th>\n",
       "      <th>subject</th>\n",
       "      <th>ed_level</th>\n",
       "    </tr>\n",
       "  </thead>\n",
       "  <tbody>\n",
       "    <tr>\n",
       "      <th>0</th>\n",
       "      <td>0</td>\n",
       "      <td>AtomicObject</td>\n",
       "      <td>1182</td>\n",
       "      <td>425445.0</td>\n",
       "      <td>4.6</td>\n",
       "      <td>оценка</td>\n",
       "      <td>5</td>\n",
       "      <td>2015-07-17</td>\n",
       "      <td>425445.0</td>\n",
       "      <td>текст</td>\n",
       "      <td>Физкультура</td>\n",
       "      <td>ООО</td>\n",
       "    </tr>\n",
       "    <tr>\n",
       "      <th>1</th>\n",
       "      <td>1</td>\n",
       "      <td>AtomicObject</td>\n",
       "      <td>1308</td>\n",
       "      <td>425445.0</td>\n",
       "      <td>4.0</td>\n",
       "      <td>оценка</td>\n",
       "      <td>5</td>\n",
       "      <td>2015-07-17</td>\n",
       "      <td>425445.0</td>\n",
       "      <td>текст</td>\n",
       "      <td>Физкультура</td>\n",
       "      <td>ООО</td>\n",
       "    </tr>\n",
       "  </tbody>\n",
       "</table>\n",
       "</div>"
      ],
      "text/plain": [
       "   action_id material_type  material_id   ...     real_type      subject ed_level\n",
       "0          0  AtomicObject         1182   ...         текст  Физкультура      ООО\n",
       "1          1  AtomicObject         1308   ...         текст  Физкультура      ООО\n",
       "\n",
       "[2 rows x 12 columns]"
      ]
     },
     "execution_count": 28,
     "metadata": {},
     "output_type": "execute_result"
    }
   ],
   "source": [
    "df.head(2)"
   ]
  },
  {
   "cell_type": "code",
   "execution_count": 40,
   "metadata": {
    "_uuid": "583e3370ec0ead20756e03f53c03cb5dfe138938"
   },
   "outputs": [],
   "source": [
    "week_delta = 8"
   ]
  },
  {
   "cell_type": "markdown",
   "metadata": {
    "_uuid": "49b9d31623d305c61e62798e45d2665c7ff60e97"
   },
   "source": [
    "#### Смотрим на действия пользователей за последние n = 8 недель"
   ]
  },
  {
   "cell_type": "code",
   "execution_count": null,
   "metadata": {
    "_uuid": "08785d5cf987a655f67110d7fc65e3c258511994"
   },
   "outputs": [],
   "source": [
    "tmp = df[df.action_start.apply(lambda x: x.isocalendar()[1] < rec_week_num\n",
    "                              ) & (df.action_start.apply(lambda x: x.isocalendar()[1] >= rec_week_num - week_delta))]"
   ]
  },
  {
   "cell_type": "code",
   "execution_count": null,
   "metadata": {
    "_uuid": "f965e5353fe68bed501d4f4b632e453451cc4a7d"
   },
   "outputs": [],
   "source": [
    "tmp.head(2)"
   ]
  },
  {
   "cell_type": "code",
   "execution_count": null,
   "metadata": {
    "_uuid": "9b66a3c18f3ffe12d0d1ede74d70c019d1bac56f"
   },
   "outputs": [],
   "source": [
    "tmp.shape"
   ]
  },
  {
   "cell_type": "code",
   "execution_count": null,
   "metadata": {
    "_uuid": "3733903d119a5c59e2bceb34d123b1424787bebb"
   },
   "outputs": [],
   "source": [
    "tmp = tmp.groupby(['material_type', 'material_id', 'action_user_id']).action_id.count().reset_index().iloc[:, :3]"
   ]
  },
  {
   "cell_type": "code",
   "execution_count": null,
   "metadata": {
    "_uuid": "4e4db7beb8559f98cfda2fa0b8ebdaabaeb9b664"
   },
   "outputs": [],
   "source": [
    "tmp.shape"
   ]
  },
  {
   "cell_type": "code",
   "execution_count": null,
   "metadata": {
    "_uuid": "62f0c9e20dcbdc7e67584d5a7b51bc4dd7927798"
   },
   "outputs": [],
   "source": [
    "tmp.head(5)"
   ]
  },
  {
   "cell_type": "markdown",
   "metadata": {
    "_uuid": "81a5f4367d7cdcfc0ff50ddfa51847e542eb1de1"
   },
   "source": [
    "#### Склеиваем с информацией о материалах"
   ]
  },
  {
   "cell_type": "code",
   "execution_count": null,
   "metadata": {
    "_uuid": "4280712f7908d10694b6a88f0745f178d6ff20dd"
   },
   "outputs": [],
   "source": [
    "%%time\n",
    "tmp = pd.merge(tmp, mc.iloc[:, :6], how = 'inner', on = ['material_type', 'material_id'])"
   ]
  },
  {
   "cell_type": "code",
   "execution_count": null,
   "metadata": {
    "_uuid": "ce8c9a567f5fd1500739265d110cd6318b079124"
   },
   "outputs": [],
   "source": [
    "tmp.shape"
   ]
  },
  {
   "cell_type": "code",
   "execution_count": null,
   "metadata": {
    "_uuid": "c84dcc66ca5f7b2c316d7c1c123a38a6a5aa081c"
   },
   "outputs": [],
   "source": [
    "tmp.head(5)"
   ]
  },
  {
   "cell_type": "code",
   "execution_count": null,
   "metadata": {
    "_uuid": "e4f309fd147d09ebaa8f5f32c288e6accbfd7b01"
   },
   "outputs": [],
   "source": [
    "tmp.drop('name', axis = 1 , inplace = True)"
   ]
  },
  {
   "cell_type": "code",
   "execution_count": null,
   "metadata": {
    "_uuid": "479403da5d676387bcd2d63bc1df2cffa6fa5a77"
   },
   "outputs": [],
   "source": [
    "tmp.head(2)"
   ]
  },
  {
   "cell_type": "markdown",
   "metadata": {
    "_uuid": "12f394b70a166f80803cd5e99aa3e85ce77e730d"
   },
   "source": [
    "#### Групируем столбцы, которые дают информацию о действиях и удаляем однозначные значения кода"
   ]
  },
  {
   "cell_type": "code",
   "execution_count": null,
   "metadata": {
    "_uuid": "6f887be3b4b658f2e3b863111bd8c44ef129d1e3"
   },
   "outputs": [],
   "source": [
    "tmp = tmp.groupby(['action_user_id', 'code', 'subject', 'ed_level']).material_id.count().reset_index().iloc[:, :4]"
   ]
  },
  {
   "cell_type": "code",
   "execution_count": null,
   "metadata": {
    "_uuid": "ddb403f812934a4b44c36a2375ebcd4ac1e77c28"
   },
   "outputs": [],
   "source": [
    "tmp = tmp[tmp.code.apply(lambda x: len(str(x)) > 2)]"
   ]
  },
  {
   "cell_type": "code",
   "execution_count": null,
   "metadata": {
    "_uuid": "d765eb635fa5a3541651a757fef767d945d150ac"
   },
   "outputs": [],
   "source": [
    "tmp.shape"
   ]
  },
  {
   "cell_type": "code",
   "execution_count": null,
   "metadata": {
    "_uuid": "e2ad50cdc08e8ee00a6c486b738934e4ad333f97"
   },
   "outputs": [],
   "source": [
    "tmp.head(2)"
   ]
  },
  {
   "cell_type": "code",
   "execution_count": null,
   "metadata": {
    "_uuid": "e7885f2fa3e7b315f6e604dfebf1c347d2371924"
   },
   "outputs": [],
   "source": [
    "tmp.action_user_id.unique().shape"
   ]
  },
  {
   "cell_type": "code",
   "execution_count": null,
   "metadata": {
    "_uuid": "a3864be341df462a4942a8ab8c24033e650553f6",
    "scrolled": true
   },
   "outputs": [],
   "source": [
    "t = tmp.groupby(['code', 'subject', 'ed_level']).count().reset_index()\n",
    "tmp = pd.merge(tmp, t.loc[t.action_user_id > 1, ['code', 'subject', 'ed_level']], \n",
    "               how = 'inner', on = ['code', 'subject', 'ed_level'])"
   ]
  },
  {
   "cell_type": "code",
   "execution_count": null,
   "metadata": {
    "_uuid": "0703663dfcfa10ad22f93f7320a06e313afee141"
   },
   "outputs": [],
   "source": [
    "tmp[(tmp.code == '1.0.4.3')]"
   ]
  },
  {
   "cell_type": "code",
   "execution_count": null,
   "metadata": {
    "_uuid": "af476294213034bb974672d3cff52a37958ae445"
   },
   "outputs": [],
   "source": [
    "tmp.action_user_id.unique().shape"
   ]
  },
  {
   "cell_type": "code",
   "execution_count": null,
   "metadata": {
    "_uuid": "ee6052ba5db6ca51f7e52790ebabb90fc6255797"
   },
   "outputs": [],
   "source": [
    "tmp.groupby(['code', 'subject', 'ed_level']).count().shape"
   ]
  },
  {
   "cell_type": "code",
   "execution_count": null,
   "metadata": {
    "_uuid": "825ac3113c925188725ea447a89baf5d6e94fa54"
   },
   "outputs": [],
   "source": [
    "%%time\n",
    "tmp['theme'] = list(map(lambda x, y, z: x + '_' + y + '_' + z, tmp.code, tmp.subject, tmp.ed_level))"
   ]
  },
  {
   "cell_type": "code",
   "execution_count": null,
   "metadata": {
    "_uuid": "a0389e32726cd8a4594cf2805de25afb3a5b6b00"
   },
   "outputs": [],
   "source": [
    "tmp.drop(['code', 'subject', 'ed_level'], axis = 1, inplace = True)"
   ]
  },
  {
   "cell_type": "code",
   "execution_count": null,
   "metadata": {
    "_uuid": "1223fb95bf8ec7c4641af13120cd141162e63f9d"
   },
   "outputs": [],
   "source": [
    "tmp.head(2)"
   ]
  },
  {
   "cell_type": "code",
   "execution_count": null,
   "metadata": {
    "_uuid": "76df0a91875bf35f350d5d83296c4e8a27efb46d"
   },
   "outputs": [],
   "source": []
  },
  {
   "cell_type": "markdown",
   "metadata": {
    "_uuid": "4220be9febb07a83ef3e71aec1ac8160b8e47b0d"
   },
   "source": [
    "Сделать список релевантных тем для определенного юзера"
   ]
  },
  {
   "cell_type": "code",
   "execution_count": null,
   "metadata": {
    "_uuid": "c5c43e7ef14a5743cb9c4f019aadf173878d9fd4"
   },
   "outputs": [],
   "source": [
    "teacher_id = 229275"
   ]
  },
  {
   "cell_type": "code",
   "execution_count": null,
   "metadata": {
    "_uuid": "1c4821dcca41a749831b9172071ceb5ba2e704d3"
   },
   "outputs": [],
   "source": [
    "tmp[tmp.action_user_id == teacher_id].theme.values"
   ]
  },
  {
   "cell_type": "code",
   "execution_count": null,
   "metadata": {
    "_uuid": "98cd42cd312a3e5710726c79220a2b85f7840da8"
   },
   "outputs": [],
   "source": [
    "mc.head(2)"
   ]
  },
  {
   "cell_type": "code",
   "execution_count": 29,
   "metadata": {
    "_uuid": "69e8d373bbe77864668a0754bc5051fa248ecab0"
   },
   "outputs": [],
   "source": [
    "def make_recom_by_actions(rec_week_num, rec_week_year):\n",
    "    week_delta = 8\n",
    "    # отобрали все действия пользователей за предшествующие week_delta недель\n",
    "    tmp = df[df.action_start.apply(lambda x: x.isocalendar()[1] < rec_week_num) & (\n",
    "        df.action_start.apply(lambda x: x.isocalendar()[1] >= rec_week_num - week_delta)) & (\n",
    "        df.action_start.apply(lambda x: x.isocalendar()[0] == rec_week_year))]\n",
    "    # нашли все просматриваемые пользователем материалы\n",
    "    tmp = tmp.groupby(['material_type', 'material_id', 'action_user_id']\n",
    "                     ).action_id.count().reset_index().iloc[:, :3]\n",
    "    # связали их с темами\n",
    "    tmp = pd.merge(tmp, mc.iloc[:, :6], how = 'inner', on = ['material_type', 'material_id'])\n",
    "    tmp.drop('name', axis = 1 , inplace = True)\n",
    "    # получили датафрейм всех пользователей и тем\n",
    "    tmp = tmp.groupby(['action_user_id', 'code', 'subject', 'ed_level']\n",
    "                     ).material_id.count().reset_index().iloc[:, :4]                                                                                                                    \n",
    "    tmp = tmp[tmp.code.apply(lambda x: len(str(x)) > 2)]\n",
    "    t = tmp.groupby(['code', 'subject', 'ed_level']).count().reset_index()\n",
    "    # оставили все темы, которые встречались хотя бы у двух пользователей\n",
    "    tmp = pd.merge(tmp, t.loc[t.action_user_id > 1, ['code', 'subject', 'ed_level']], \n",
    "               how = 'inner', on = ['code', 'subject', 'ed_level']) \n",
    "    tmp['theme'] = list(map(lambda x, y, z: x + '_' + y + '_' + z, tmp.code, tmp.subject, tmp.ed_level))\n",
    "    tmp.drop(['code', 'subject', 'ed_level'], axis = 1, inplace = True)\n",
    "    mc['theme'] = list(map(lambda x, y, z: str(x) + '_' + y + '_' + z, mc.code, mc.subject, mc.ed_level))\n",
    "    return tmp\n",
    "\n",
    "tmp = make_recom_by_actions(rec_week_num, rec_week_year)\n",
    "\n",
    "def make_ready_for_recom(rec_week_num, rec_week_year):\n",
    "    week_delta = 8\n",
    "    # Создаем даатфрейм с темами на требуемой неделе\n",
    "    next_themes = lp.loc[(lp.week_num == rec_week_num) & (lp.code.apply(lambda x: len(str(x)) > 2)), \n",
    "                         ['teacher_id', 'theme']]\n",
    "    \n",
    "    t1 = lp.loc[(lp.week_num < rec_week_num) & (lp.week_num >= rec_week_num - week_delta) & (\n",
    "        lp.year_num == rec_week_year) & (lp.teacher_id.isin(next_themes.teacher_id.unique())) & (\n",
    "        lp.code.apply(lambda x: len(str(x)) > 2)), \n",
    "                :].groupby(['teacher_id', 'theme']).week_num.count().reset_index().iloc[:, :2]\n",
    "    t1 = pd.concat([tmp.rename(columns = {'action_user_id': 'teacher_id'}, index = str), t1])\n",
    "    t1['qty'] = 1\n",
    "    t1 = t1.groupby(['teacher_id', 'theme']).count().reset_index().iloc[:, :2]\n",
    "    \n",
    "    # формируем спарс матрицы\n",
    "    user_ref = pd.DataFrame({'teacher_id': t1.teacher_id.unique(), \n",
    "                             'user_ind': range(t1.teacher_id.unique().shape[0])})\n",
    "    theme_ref = pd.DataFrame({'theme': t1.theme.unique(), \n",
    "                              'theme_ind': range(t1.theme.unique().shape[0])})\n",
    "    t1 = pd.merge(t1, user_ref, how = 'inner', on = 'teacher_id')\n",
    "    t1 = pd.merge(t1, theme_ref, how = 'inner', on = 'theme')\n",
    "    t1['qty'] = 1\n",
    "    \n",
    "    size = t1.shape[0]\n",
    "    row = np.array(t1.user_ind[:size])\n",
    "    col = np.array(t1.theme_ind[:size])\n",
    "    data = np.array(t1.qty[:size])\n",
    "    X = sparse.csr_matrix((data, (row, col))).asfptype()\n",
    "    \n",
    "    # Применяем сингулярное разложение\n",
    "    (U, S, V) = svds(X, k = 100)\n",
    "    \n",
    "    # Применяем метод ближайших соседей(KDtree)\n",
    "    tree = spatial.KDTree(U)\n",
    "    ready = np.array([next_themes, t1, user_ref, theme_ref, tree, U])\n",
    "    return ready\n",
    "\n",
    "next_themes = make_ready_for_recom(rec_week_num, rec_week_year)[0]\n",
    "t1 = make_ready_for_recom(rec_week_num, rec_week_year)[1]\n",
    "user_ref = make_ready_for_recom(rec_week_num, rec_week_year)[2]\n",
    "theme_ref = make_ready_for_recom(rec_week_num, rec_week_year)[3]\n",
    "tree = make_ready_for_recom(rec_week_num, rec_week_year)[4]\n",
    "U = make_ready_for_recom(rec_week_num, rec_week_year)[5]\n",
    "\n",
    "def recomm_by_les_and_act(teacher_id):\n",
    "    nn_user_ind = tree.query(U[user_ref.loc[user_ref.teacher_id == teacher_id, 'user_ind'].values[0], :], k = 100)[1]\n",
    "    \n",
    "    mat_list = mc.loc[mc.theme.isin(next_themes[next_themes.teacher_id.isin(\n",
    "        user_ref.loc[user_ref.user_ind.isin(nn_user_ind), \n",
    "                     'teacher_id'].values)].theme.unique()), :\n",
    "                     ].groupby(['material_type', 'material_id']).count().reset_index().iloc[:, :2]\n",
    "    rec_final = pd.merge(marks, mat_list, how = 'inner', on = ['material_type', 'material_id']\n",
    "                        ).sort_values(by = ['avg_rating', 'marks_qty'], ascending = False).head(10)\n",
    "    return rec_final\n",
    "\n",
    "def make_recom_by_les_plan(rec_week_num, rec_week_year, teacher_id):\n",
    "    # тут отбираем темы, интересные для пользователя на неделе\n",
    "    tmp = lp.loc[(lp.week_num == rec_week_num) & (lp.year_num == rec_week_year), \n",
    "                 ['teacher_id', 'code', 'cis', 'week_num', 'subject', 'ed_level']\n",
    "                ].groupby(['teacher_id', 'code', 'cis', 'subject', 'ed_level']).count().reset_index().iloc[:, :5]\n",
    "    tmp = tmp[tmp.code.apply(lambda x: len(str(x)) > 2)]\n",
    "    # отбираем для пользователя наиболее релевантные материалы по поурочным планам\n",
    "    rec = pd.merge(pd.merge(tmp.loc[tmp.teacher_id == teacher_id, ['teacher_id', 'code', 'ed_level', 'subject']], \n",
    "                            mc, how = 'inner', on = ['code', 'ed_level', 'subject']\n",
    "                           ).groupby(['material_type', 'material_id']).user_id.count().reset_index().iloc[:, :2], \n",
    "                   marks, how = 'inner', on = ['material_type', 'material_id'])\n",
    "    return rec.sort_values(by = ['avg_rating', 'marks_qty'], ascending = False).head(10)\n",
    "\n",
    "def fin_rec(teacher_id):\n",
    "    try:\n",
    "        res = make_recom_by_les_plan(rec_week_num, rec_week_year, teacher_id)\n",
    "    except:\n",
    "        res = recomm_by_les_and_act(teacher_id)\n",
    "    if res.shape[0] == 0:\n",
    "        res = recomm_by_les_and_act(teacher_id)\n",
    "    return res"
   ]
  },
  {
   "cell_type": "code",
   "execution_count": 30,
   "metadata": {
    "_uuid": "fca9f7fcb666c48d8e5969fc68fa70e74b432063"
   },
   "outputs": [
    {
     "name": "stdout",
     "output_type": "stream",
     "text": [
      "CPU times: user 884 ms, sys: 264 ms, total: 1.15 s\n",
      "Wall time: 1.14 s\n"
     ]
    }
   ],
   "source": [
    "%%time\n",
    "res1 = fin_rec(49)"
   ]
  },
  {
   "cell_type": "code",
   "execution_count": 31,
   "metadata": {
    "_uuid": "62ad6f5e4c5627202e0e15292e355be53dbeb679"
   },
   "outputs": [
    {
     "name": "stdout",
     "output_type": "stream",
     "text": [
      "CPU times: user 1.35 s, sys: 52 ms, total: 1.4 s\n",
      "Wall time: 1.4 s\n"
     ]
    }
   ],
   "source": [
    "%%time \n",
    "res2 = fin_rec(229275)"
   ]
  },
  {
   "cell_type": "code",
   "execution_count": 32,
   "metadata": {
    "_uuid": "860dbe9be16a2d4f36ea46748b74e7474de43394"
   },
   "outputs": [
    {
     "data": {
      "text/html": [
       "<div>\n",
       "<style scoped>\n",
       "    .dataframe tbody tr th:only-of-type {\n",
       "        vertical-align: middle;\n",
       "    }\n",
       "\n",
       "    .dataframe tbody tr th {\n",
       "        vertical-align: top;\n",
       "    }\n",
       "\n",
       "    .dataframe thead th {\n",
       "        text-align: right;\n",
       "    }\n",
       "</style>\n",
       "<table border=\"1\" class=\"dataframe\">\n",
       "  <thead>\n",
       "    <tr style=\"text-align: right;\">\n",
       "      <th></th>\n",
       "      <th>material_type</th>\n",
       "      <th>material_id</th>\n",
       "      <th>avg_rating</th>\n",
       "      <th>marks_qty</th>\n",
       "    </tr>\n",
       "  </thead>\n",
       "  <tbody>\n",
       "    <tr>\n",
       "      <th>83</th>\n",
       "      <td>AtomicObject</td>\n",
       "      <td>1131825</td>\n",
       "      <td>5.0</td>\n",
       "      <td>46</td>\n",
       "    </tr>\n",
       "    <tr>\n",
       "      <th>78</th>\n",
       "      <td>AtomicObject</td>\n",
       "      <td>1131804</td>\n",
       "      <td>5.0</td>\n",
       "      <td>45</td>\n",
       "    </tr>\n",
       "    <tr>\n",
       "      <th>80</th>\n",
       "      <td>AtomicObject</td>\n",
       "      <td>1131810</td>\n",
       "      <td>5.0</td>\n",
       "      <td>43</td>\n",
       "    </tr>\n",
       "    <tr>\n",
       "      <th>89</th>\n",
       "      <td>AtomicObject</td>\n",
       "      <td>1131851</td>\n",
       "      <td>5.0</td>\n",
       "      <td>43</td>\n",
       "    </tr>\n",
       "    <tr>\n",
       "      <th>79</th>\n",
       "      <td>AtomicObject</td>\n",
       "      <td>1131807</td>\n",
       "      <td>5.0</td>\n",
       "      <td>42</td>\n",
       "    </tr>\n",
       "    <tr>\n",
       "      <th>85</th>\n",
       "      <td>AtomicObject</td>\n",
       "      <td>1131830</td>\n",
       "      <td>5.0</td>\n",
       "      <td>42</td>\n",
       "    </tr>\n",
       "    <tr>\n",
       "      <th>20</th>\n",
       "      <td>AtomicObject</td>\n",
       "      <td>430836</td>\n",
       "      <td>5.0</td>\n",
       "      <td>41</td>\n",
       "    </tr>\n",
       "    <tr>\n",
       "      <th>81</th>\n",
       "      <td>AtomicObject</td>\n",
       "      <td>1131811</td>\n",
       "      <td>5.0</td>\n",
       "      <td>41</td>\n",
       "    </tr>\n",
       "    <tr>\n",
       "      <th>84</th>\n",
       "      <td>AtomicObject</td>\n",
       "      <td>1131828</td>\n",
       "      <td>5.0</td>\n",
       "      <td>41</td>\n",
       "    </tr>\n",
       "    <tr>\n",
       "      <th>88</th>\n",
       "      <td>AtomicObject</td>\n",
       "      <td>1131848</td>\n",
       "      <td>5.0</td>\n",
       "      <td>41</td>\n",
       "    </tr>\n",
       "  </tbody>\n",
       "</table>\n",
       "</div>"
      ],
      "text/plain": [
       "   material_type  material_id  avg_rating  marks_qty\n",
       "83  AtomicObject      1131825         5.0         46\n",
       "78  AtomicObject      1131804         5.0         45\n",
       "80  AtomicObject      1131810         5.0         43\n",
       "89  AtomicObject      1131851         5.0         43\n",
       "79  AtomicObject      1131807         5.0         42\n",
       "85  AtomicObject      1131830         5.0         42\n",
       "20  AtomicObject       430836         5.0         41\n",
       "81  AtomicObject      1131811         5.0         41\n",
       "84  AtomicObject      1131828         5.0         41\n",
       "88  AtomicObject      1131848         5.0         41"
      ]
     },
     "execution_count": 32,
     "metadata": {},
     "output_type": "execute_result"
    }
   ],
   "source": [
    "res1"
   ]
  },
  {
   "cell_type": "code",
   "execution_count": 33,
   "metadata": {
    "_uuid": "3bd0f702df357f3b26a513d206a86d4fef218a43"
   },
   "outputs": [
    {
     "data": {
      "text/html": [
       "<div>\n",
       "<style scoped>\n",
       "    .dataframe tbody tr th:only-of-type {\n",
       "        vertical-align: middle;\n",
       "    }\n",
       "\n",
       "    .dataframe tbody tr th {\n",
       "        vertical-align: top;\n",
       "    }\n",
       "\n",
       "    .dataframe thead th {\n",
       "        text-align: right;\n",
       "    }\n",
       "</style>\n",
       "<table border=\"1\" class=\"dataframe\">\n",
       "  <thead>\n",
       "    <tr style=\"text-align: right;\">\n",
       "      <th></th>\n",
       "      <th>material_id</th>\n",
       "      <th>material_type</th>\n",
       "      <th>avg_rating</th>\n",
       "      <th>marks_qty</th>\n",
       "    </tr>\n",
       "  </thead>\n",
       "  <tbody>\n",
       "    <tr>\n",
       "      <th>2529</th>\n",
       "      <td>29214</td>\n",
       "      <td>AtomicObject</td>\n",
       "      <td>5.0</td>\n",
       "      <td>260</td>\n",
       "    </tr>\n",
       "    <tr>\n",
       "      <th>2546</th>\n",
       "      <td>29478</td>\n",
       "      <td>AtomicObject</td>\n",
       "      <td>5.0</td>\n",
       "      <td>260</td>\n",
       "    </tr>\n",
       "    <tr>\n",
       "      <th>5196</th>\n",
       "      <td>370870</td>\n",
       "      <td>AtomicObject</td>\n",
       "      <td>5.0</td>\n",
       "      <td>211</td>\n",
       "    </tr>\n",
       "    <tr>\n",
       "      <th>5169</th>\n",
       "      <td>368506</td>\n",
       "      <td>AtomicObject</td>\n",
       "      <td>5.0</td>\n",
       "      <td>165</td>\n",
       "    </tr>\n",
       "    <tr>\n",
       "      <th>5530</th>\n",
       "      <td>422710</td>\n",
       "      <td>AtomicObject</td>\n",
       "      <td>5.0</td>\n",
       "      <td>162</td>\n",
       "    </tr>\n",
       "    <tr>\n",
       "      <th>5579</th>\n",
       "      <td>429376</td>\n",
       "      <td>AtomicObject</td>\n",
       "      <td>5.0</td>\n",
       "      <td>118</td>\n",
       "    </tr>\n",
       "    <tr>\n",
       "      <th>5556</th>\n",
       "      <td>426716</td>\n",
       "      <td>AtomicObject</td>\n",
       "      <td>5.0</td>\n",
       "      <td>115</td>\n",
       "    </tr>\n",
       "    <tr>\n",
       "      <th>5557</th>\n",
       "      <td>426724</td>\n",
       "      <td>AtomicObject</td>\n",
       "      <td>5.0</td>\n",
       "      <td>115</td>\n",
       "    </tr>\n",
       "    <tr>\n",
       "      <th>5559</th>\n",
       "      <td>426779</td>\n",
       "      <td>AtomicObject</td>\n",
       "      <td>5.0</td>\n",
       "      <td>115</td>\n",
       "    </tr>\n",
       "    <tr>\n",
       "      <th>5578</th>\n",
       "      <td>429132</td>\n",
       "      <td>AtomicObject</td>\n",
       "      <td>5.0</td>\n",
       "      <td>115</td>\n",
       "    </tr>\n",
       "  </tbody>\n",
       "</table>\n",
       "</div>"
      ],
      "text/plain": [
       "      material_id material_type  avg_rating  marks_qty\n",
       "2529        29214  AtomicObject         5.0        260\n",
       "2546        29478  AtomicObject         5.0        260\n",
       "5196       370870  AtomicObject         5.0        211\n",
       "5169       368506  AtomicObject         5.0        165\n",
       "5530       422710  AtomicObject         5.0        162\n",
       "5579       429376  AtomicObject         5.0        118\n",
       "5556       426716  AtomicObject         5.0        115\n",
       "5557       426724  AtomicObject         5.0        115\n",
       "5559       426779  AtomicObject         5.0        115\n",
       "5578       429132  AtomicObject         5.0        115"
      ]
     },
     "execution_count": 33,
     "metadata": {},
     "output_type": "execute_result"
    }
   ],
   "source": [
    "res2"
   ]
  },
  {
   "cell_type": "code",
   "execution_count": null,
   "metadata": {
    "_uuid": "8d04023159545757db4775e0c7803975a9cc8ff0"
   },
   "outputs": [],
   "source": [
    "lp[lp.week_num == 43].head(2)"
   ]
  },
  {
   "cell_type": "code",
   "execution_count": null,
   "metadata": {
    "_uuid": "ad157237326066b20c6c2a94b2cae7b6c3fbdacf"
   },
   "outputs": [],
   "source": [
    "lp[lp.teacher_id == 4145839].head(2)"
   ]
  },
  {
   "cell_type": "code",
   "execution_count": 44,
   "metadata": {
    "_uuid": "c41d1f456fa19fd9cabeb6fdf5cde84b684db0fd"
   },
   "outputs": [
    {
     "data": {
      "text/html": [
       "<div>\n",
       "<style scoped>\n",
       "    .dataframe tbody tr th:only-of-type {\n",
       "        vertical-align: middle;\n",
       "    }\n",
       "\n",
       "    .dataframe tbody tr th {\n",
       "        vertical-align: top;\n",
       "    }\n",
       "\n",
       "    .dataframe thead th {\n",
       "        text-align: right;\n",
       "    }\n",
       "</style>\n",
       "<table border=\"1\" class=\"dataframe\">\n",
       "  <thead>\n",
       "    <tr style=\"text-align: right;\">\n",
       "      <th></th>\n",
       "      <th>action_user_id</th>\n",
       "      <th>theme</th>\n",
       "    </tr>\n",
       "  </thead>\n",
       "  <tbody>\n",
       "    <tr>\n",
       "      <th>0</th>\n",
       "      <td>29.0</td>\n",
       "      <td>2.3_Литературное чтение_НОО</td>\n",
       "    </tr>\n",
       "    <tr>\n",
       "      <th>1</th>\n",
       "      <td>79.0</td>\n",
       "      <td>2.3_Литературное чтение_НОО</td>\n",
       "    </tr>\n",
       "  </tbody>\n",
       "</table>\n",
       "</div>"
      ],
      "text/plain": [
       "   action_user_id                        theme\n",
       "0            29.0  2.3_Литературное чтение_НОО\n",
       "1            79.0  2.3_Литературное чтение_НОО"
      ]
     },
     "execution_count": 44,
     "metadata": {},
     "output_type": "execute_result"
    }
   ],
   "source": [
    "tmp.head(2)"
   ]
  },
  {
   "cell_type": "code",
   "execution_count": null,
   "metadata": {
    "_uuid": "1d388384503646db488654a5121a34c708ed76a2"
   },
   "outputs": [],
   "source": [
    "tmp[tmp.action_user_id == 4145839].head(2)"
   ]
  },
  {
   "cell_type": "code",
   "execution_count": null,
   "metadata": {
    "_uuid": "71b414fc8adfedad6051bba7f2a90eb64b775fa6"
   },
   "outputs": [],
   "source": []
  },
  {
   "cell_type": "code",
   "execution_count": 34,
   "metadata": {
    "_uuid": "140bdb414e89d2a81f36d71bc685aae5299b4324"
   },
   "outputs": [],
   "source": [
    "lp['theme'] = list(map(lambda x, y, z: str(x) + '_' + y + '_' + z, lp.code, lp.subject, lp.ed_level))"
   ]
  },
  {
   "cell_type": "code",
   "execution_count": 35,
   "metadata": {
    "_uuid": "09c5a69d6cdbf8345a26edcb161525ba24177460"
   },
   "outputs": [
    {
     "data": {
      "text/html": [
       "<div>\n",
       "<style scoped>\n",
       "    .dataframe tbody tr th:only-of-type {\n",
       "        vertical-align: middle;\n",
       "    }\n",
       "\n",
       "    .dataframe tbody tr th {\n",
       "        vertical-align: top;\n",
       "    }\n",
       "\n",
       "    .dataframe thead th {\n",
       "        text-align: right;\n",
       "    }\n",
       "</style>\n",
       "<table border=\"1\" class=\"dataframe\">\n",
       "  <thead>\n",
       "    <tr style=\"text-align: right;\">\n",
       "      <th></th>\n",
       "      <th>lesson_id</th>\n",
       "      <th>teacher_id</th>\n",
       "      <th>date</th>\n",
       "      <th>subject</th>\n",
       "      <th>ed_level</th>\n",
       "      <th>code</th>\n",
       "      <th>cis</th>\n",
       "      <th>week_num</th>\n",
       "      <th>year_num</th>\n",
       "      <th>theme</th>\n",
       "    </tr>\n",
       "  </thead>\n",
       "  <tbody>\n",
       "    <tr>\n",
       "      <th>0</th>\n",
       "      <td>74934616</td>\n",
       "      <td>4145840</td>\n",
       "      <td>2018-09-04</td>\n",
       "      <td>Изобразительное искусство</td>\n",
       "      <td>НОО</td>\n",
       "      <td>1.2</td>\n",
       "      <td>Рисунок</td>\n",
       "      <td>36</td>\n",
       "      <td>2018</td>\n",
       "      <td>1.2_Изобразительное искусство_НОО</td>\n",
       "    </tr>\n",
       "    <tr>\n",
       "      <th>1</th>\n",
       "      <td>74934661</td>\n",
       "      <td>4145840</td>\n",
       "      <td>2018-09-11</td>\n",
       "      <td>Изобразительное искусство</td>\n",
       "      <td>НОО</td>\n",
       "      <td>1.1</td>\n",
       "      <td>Восприятие произведений искусства</td>\n",
       "      <td>37</td>\n",
       "      <td>2018</td>\n",
       "      <td>1.1_Изобразительное искусство_НОО</td>\n",
       "    </tr>\n",
       "  </tbody>\n",
       "</table>\n",
       "</div>"
      ],
      "text/plain": [
       "   lesson_id                ...                                              theme\n",
       "0   74934616                ...                  1.2_Изобразительное искусство_НОО\n",
       "1   74934661                ...                  1.1_Изобразительное искусство_НОО\n",
       "\n",
       "[2 rows x 10 columns]"
      ]
     },
     "execution_count": 35,
     "metadata": {},
     "output_type": "execute_result"
    }
   ],
   "source": [
    "lp.head(2)"
   ]
  },
  {
   "cell_type": "code",
   "execution_count": 36,
   "metadata": {
    "_uuid": "80038b3e4a7fc95312bfd3fa75cbb368341f8bb6"
   },
   "outputs": [],
   "source": [
    "next_themes = lp.loc[(lp.week_num == rec_week_num) & (lp.code.apply(lambda x: len(str(x)) > 2)), \n",
    "                     ['teacher_id', 'theme']]"
   ]
  },
  {
   "cell_type": "code",
   "execution_count": 37,
   "metadata": {
    "_uuid": "137008aea668121fd0fccd810dfe22e9b8bfe358"
   },
   "outputs": [
    {
     "data": {
      "text/html": [
       "<div>\n",
       "<style scoped>\n",
       "    .dataframe tbody tr th:only-of-type {\n",
       "        vertical-align: middle;\n",
       "    }\n",
       "\n",
       "    .dataframe tbody tr th {\n",
       "        vertical-align: top;\n",
       "    }\n",
       "\n",
       "    .dataframe thead th {\n",
       "        text-align: right;\n",
       "    }\n",
       "</style>\n",
       "<table border=\"1\" class=\"dataframe\">\n",
       "  <thead>\n",
       "    <tr style=\"text-align: right;\">\n",
       "      <th></th>\n",
       "      <th>teacher_id</th>\n",
       "      <th>theme</th>\n",
       "    </tr>\n",
       "  </thead>\n",
       "  <tbody>\n",
       "    <tr>\n",
       "      <th>38</th>\n",
       "      <td>4145839</td>\n",
       "      <td>3.2.1_Изобразительное искусство_НОО</td>\n",
       "    </tr>\n",
       "    <tr>\n",
       "      <th>39</th>\n",
       "      <td>4145839</td>\n",
       "      <td>3.2.2_Изобразительное искусство_НОО</td>\n",
       "    </tr>\n",
       "  </tbody>\n",
       "</table>\n",
       "</div>"
      ],
      "text/plain": [
       "    teacher_id                                theme\n",
       "38     4145839  3.2.1_Изобразительное искусство_НОО\n",
       "39     4145839  3.2.2_Изобразительное искусство_НОО"
      ]
     },
     "execution_count": 37,
     "metadata": {},
     "output_type": "execute_result"
    }
   ],
   "source": [
    "next_themes.head(2)"
   ]
  },
  {
   "cell_type": "code",
   "execution_count": 38,
   "metadata": {
    "_uuid": "15747163cf795ec6e6b8bb244c35c8c7d88e4fa1"
   },
   "outputs": [
    {
     "data": {
      "text/plain": [
       "(8508,)"
      ]
     },
     "execution_count": 38,
     "metadata": {},
     "output_type": "execute_result"
    }
   ],
   "source": [
    "next_themes.teacher_id.unique().shape"
   ]
  },
  {
   "cell_type": "code",
   "execution_count": 41,
   "metadata": {
    "_uuid": "86eb116011b72847693a9d782bbee740f490f42b"
   },
   "outputs": [
    {
     "name": "stdout",
     "output_type": "stream",
     "text": [
      "(1692421, 2)\n"
     ]
    },
    {
     "data": {
      "text/html": [
       "<div>\n",
       "<style scoped>\n",
       "    .dataframe tbody tr th:only-of-type {\n",
       "        vertical-align: middle;\n",
       "    }\n",
       "\n",
       "    .dataframe tbody tr th {\n",
       "        vertical-align: top;\n",
       "    }\n",
       "\n",
       "    .dataframe thead th {\n",
       "        text-align: right;\n",
       "    }\n",
       "</style>\n",
       "<table border=\"1\" class=\"dataframe\">\n",
       "  <thead>\n",
       "    <tr style=\"text-align: right;\">\n",
       "      <th></th>\n",
       "      <th>teacher_id</th>\n",
       "      <th>theme</th>\n",
       "    </tr>\n",
       "  </thead>\n",
       "  <tbody>\n",
       "    <tr>\n",
       "      <th>0</th>\n",
       "      <td>29.0</td>\n",
       "      <td>2.3_Литературное чтение_НОО</td>\n",
       "    </tr>\n",
       "    <tr>\n",
       "      <th>1</th>\n",
       "      <td>29.0</td>\n",
       "      <td>2.7_Литературное чтение_НОО</td>\n",
       "    </tr>\n",
       "  </tbody>\n",
       "</table>\n",
       "</div>"
      ],
      "text/plain": [
       "   teacher_id                        theme\n",
       "0        29.0  2.3_Литературное чтение_НОО\n",
       "1        29.0  2.7_Литературное чтение_НОО"
      ]
     },
     "execution_count": 41,
     "metadata": {},
     "output_type": "execute_result"
    }
   ],
   "source": [
    "t1 = lp.loc[(lp.week_num < rec_week_num) & (lp.week_num >= rec_week_num - week_delta) & (\n",
    "    lp.year_num == rec_week_year) & (lp.teacher_id.isin(next_themes.teacher_id.unique())) & (\n",
    "    lp.code.apply(lambda x: len(str(x)) > 2)), \n",
    "            :].groupby(['teacher_id', 'theme']).week_num.count().reset_index().iloc[:, :2]\n",
    "t1 = pd.concat([tmp.rename(columns = {'action_user_id': 'teacher_id'}, index = str), t1])\n",
    "t1['qty'] = 1\n",
    "t1 = t1.groupby(['teacher_id', 'theme']).count().reset_index().iloc[:, :2]\n",
    "print(t1.shape)\n",
    "t1.head(2)"
   ]
  },
  {
   "cell_type": "code",
   "execution_count": 45,
   "metadata": {
    "_uuid": "050f77ece8cc8fcff7650973346523b5310dfa4b"
   },
   "outputs": [
    {
     "data": {
      "text/plain": [
       "array([[1, 0, 2],\n",
       "       [0, 0, 3],\n",
       "       [4, 5, 6]], dtype=int64)"
      ]
     },
     "execution_count": 45,
     "metadata": {},
     "output_type": "execute_result"
    }
   ],
   "source": [
    "row = np.array([0, 0, 1, 2, 2, 2])\n",
    "col = np.array([0, 2, 2, 0, 1, 2])\n",
    "data = np.array([1, 2, 3, 4, 5, 6])\n",
    "sparse.csr_matrix((data, (row, col))).toarray()#, shape=(3, 3))"
   ]
  },
  {
   "cell_type": "code",
   "execution_count": 46,
   "metadata": {
    "_uuid": "38c50be1c3e3e9fdef4581aab893330af93425ba"
   },
   "outputs": [],
   "source": [
    "user_ref = pd.DataFrame({'teacher_id': t1.teacher_id.unique(), \n",
    "                         'user_ind': range(t1.teacher_id.unique().shape[0])})\n",
    "theme_ref = pd.DataFrame({'theme': t1.theme.unique(), \n",
    "                         'theme_ind': range(t1.theme.unique().shape[0])})\n",
    "t1 = pd.merge(t1, user_ref, how = 'inner', on = 'teacher_id')\n",
    "t1 = pd.merge(t1, theme_ref, how = 'inner', on = 'theme')\n",
    "t1['qty'] = 1"
   ]
  },
  {
   "cell_type": "code",
   "execution_count": null,
   "metadata": {
    "_uuid": "e8ab2ca46aac5c89566f73c036385e80ed029ba3"
   },
   "outputs": [],
   "source": [
    "# svd\n",
    "# def (rec_week_num, rec_week_year, week_delta)"
   ]
  },
  {
   "cell_type": "markdown",
   "metadata": {
    "_uuid": "6e881017776905a14852e89a2e508b2ed41ff9fb"
   },
   "source": [
    "# Задание:\n",
    "## Реализовать подход для юзеров, у  которых нет ни поурочных планов, ни действий."
   ]
  },
  {
   "cell_type": "code",
   "execution_count": null,
   "metadata": {
    "_uuid": "b9dfa75541c90cdbc1d34177215963b76b0a4ee3"
   },
   "outputs": [],
   "source": []
  },
  {
   "cell_type": "code",
   "execution_count": 47,
   "metadata": {
    "_uuid": "2d5a76febf0335ca7e057d3a29ed83c11ac94ccc"
   },
   "outputs": [
    {
     "data": {
      "text/html": [
       "<div>\n",
       "<style scoped>\n",
       "    .dataframe tbody tr th:only-of-type {\n",
       "        vertical-align: middle;\n",
       "    }\n",
       "\n",
       "    .dataframe tbody tr th {\n",
       "        vertical-align: top;\n",
       "    }\n",
       "\n",
       "    .dataframe thead th {\n",
       "        text-align: right;\n",
       "    }\n",
       "</style>\n",
       "<table border=\"1\" class=\"dataframe\">\n",
       "  <thead>\n",
       "    <tr style=\"text-align: right;\">\n",
       "      <th></th>\n",
       "      <th>teacher_id</th>\n",
       "      <th>theme</th>\n",
       "      <th>user_ind</th>\n",
       "      <th>theme_ind</th>\n",
       "      <th>qty</th>\n",
       "    </tr>\n",
       "  </thead>\n",
       "  <tbody>\n",
       "    <tr>\n",
       "      <th>0</th>\n",
       "      <td>29.0</td>\n",
       "      <td>2.3_Литературное чтение_НОО</td>\n",
       "      <td>0</td>\n",
       "      <td>0</td>\n",
       "      <td>1</td>\n",
       "    </tr>\n",
       "    <tr>\n",
       "      <th>1</th>\n",
       "      <td>79.0</td>\n",
       "      <td>2.3_Литературное чтение_НОО</td>\n",
       "      <td>15</td>\n",
       "      <td>0</td>\n",
       "      <td>1</td>\n",
       "    </tr>\n",
       "  </tbody>\n",
       "</table>\n",
       "</div>"
      ],
      "text/plain": [
       "   teacher_id                        theme  user_ind  theme_ind  qty\n",
       "0        29.0  2.3_Литературное чтение_НОО         0          0    1\n",
       "1        79.0  2.3_Литературное чтение_НОО        15          0    1"
      ]
     },
     "execution_count": 47,
     "metadata": {},
     "output_type": "execute_result"
    }
   ],
   "source": [
    "t1.head(2)"
   ]
  },
  {
   "cell_type": "code",
   "execution_count": 48,
   "metadata": {
    "_uuid": "9de52dd40644aa9da89aff4bc37f759363d1d965"
   },
   "outputs": [
    {
     "data": {
      "text/plain": [
       "(1692421, 5)"
      ]
     },
     "execution_count": 48,
     "metadata": {},
     "output_type": "execute_result"
    }
   ],
   "source": [
    "t1.shape"
   ]
  },
  {
   "cell_type": "code",
   "execution_count": 49,
   "metadata": {
    "_uuid": "3de073206c5eee3ff2afcbeca0b107dc760406ac"
   },
   "outputs": [],
   "source": [
    "size = t1.shape[0]\n",
    "row = np.array(t1.user_ind[:size])\n",
    "col = np.array(t1.theme_ind[:size])\n",
    "data = np.array(t1.qty[:size])\n",
    "X = sparse.csr_matrix((data, (row, col))).asfptype()"
   ]
  },
  {
   "cell_type": "code",
   "execution_count": 50,
   "metadata": {
    "_uuid": "09c6535f5091715ea3ace5b17513682dff9e575a"
   },
   "outputs": [
    {
     "data": {
      "text/plain": [
       "<10x10 sparse matrix of type '<class 'numpy.float64'>'\n",
       "\twith 15 stored elements in Compressed Sparse Row format>"
      ]
     },
     "execution_count": 50,
     "metadata": {},
     "output_type": "execute_result"
    }
   ],
   "source": [
    "X[:10, :10]"
   ]
  },
  {
   "cell_type": "code",
   "execution_count": 51,
   "metadata": {
    "_uuid": "28af03d1b0a26bc3212df27bb8ba49c1fd803be2"
   },
   "outputs": [
    {
     "data": {
      "text/plain": [
       "(54358, 14213)"
      ]
     },
     "execution_count": 51,
     "metadata": {},
     "output_type": "execute_result"
    }
   ],
   "source": [
    "X.shape"
   ]
  },
  {
   "cell_type": "code",
   "execution_count": 52,
   "metadata": {
    "_uuid": "cd26fb9f0503f8f47e366d8956c54d857b8b795a"
   },
   "outputs": [
    {
     "name": "stdout",
     "output_type": "stream",
     "text": [
      "CPU times: user 6.15 s, sys: 140 ms, total: 6.29 s\n",
      "Wall time: 3.43 s\n"
     ]
    }
   ],
   "source": [
    "%%time\n",
    "(U, S, V) = svds(X, k = 100)"
   ]
  },
  {
   "cell_type": "code",
   "execution_count": 53,
   "metadata": {
    "_uuid": "6b9e4da58599ec62a6fade8c13d62272e42b92d2"
   },
   "outputs": [
    {
     "data": {
      "text/plain": [
       "(54358, 100)"
      ]
     },
     "execution_count": 53,
     "metadata": {},
     "output_type": "execute_result"
    }
   ],
   "source": [
    "U.shape #пользователи - учителя"
   ]
  },
  {
   "cell_type": "code",
   "execution_count": 54,
   "metadata": {
    "_uuid": "243213d724f4c0ad09426ba4f5e8dfd5145ded2e"
   },
   "outputs": [
    {
     "data": {
      "text/plain": [
       "(100,)"
      ]
     },
     "execution_count": 54,
     "metadata": {},
     "output_type": "execute_result"
    }
   ],
   "source": [
    "S.shape"
   ]
  },
  {
   "cell_type": "code",
   "execution_count": 55,
   "metadata": {
    "_uuid": "d5fe710c15f5f60b867750a19f20fe6ef4edfa9e"
   },
   "outputs": [
    {
     "data": {
      "text/plain": [
       "(100, 14213)"
      ]
     },
     "execution_count": 55,
     "metadata": {},
     "output_type": "execute_result"
    }
   ],
   "source": [
    "V.shape #темы"
   ]
  },
  {
   "cell_type": "code",
   "execution_count": 56,
   "metadata": {
    "_uuid": "2bdb2cee96becc810d6573e157ec51359321339f"
   },
   "outputs": [
    {
     "data": {
      "text/plain": [
       "array([[-9.94289468e-04,  6.26527816e-04,  1.19798091e-03,\n",
       "        -3.21824281e-03,  5.23554446e-04,  5.43493376e-04,\n",
       "        -6.60143591e-04,  1.24544436e-04,  4.53701436e-04,\n",
       "         1.48304038e-05, -1.11479280e-04, -3.25078321e-05,\n",
       "        -4.89793950e-04,  5.75519106e-04,  2.51435813e-04,\n",
       "        -4.42601320e-04,  1.47416705e-04,  5.43140508e-04,\n",
       "        -6.38537899e-04,  8.81190454e-04],\n",
       "       [ 3.23000770e-03, -3.37645860e-04, -2.67890756e-03,\n",
       "         4.23732906e-04, -7.43207203e-03, -1.71035626e-03,\n",
       "        -6.86748391e-03,  3.01306027e-03, -1.29955716e-03,\n",
       "         8.30184098e-03, -6.61778793e-03, -2.48207423e-03,\n",
       "        -3.37331333e-03, -7.55775594e-03, -1.84727417e-02,\n",
       "        -1.59656739e-02, -8.80057492e-04,  3.96546230e-04,\n",
       "        -5.62896240e-03,  4.60255552e-03],\n",
       "       [-2.31762829e-03, -1.49480335e-03,  2.96886297e-03,\n",
       "         2.04545000e-03,  4.23623541e-03, -4.87557005e-03,\n",
       "         4.05432614e-03, -9.24348873e-04, -1.74466137e-03,\n",
       "        -7.13476758e-03,  3.06816639e-04, -1.74670400e-02,\n",
       "        -7.22279678e-03,  1.80907893e-03,  1.27320762e-02,\n",
       "         1.37047374e-02,  7.72385012e-04, -3.34483760e-03,\n",
       "         1.55649393e-03, -3.19703952e-03],\n",
       "       [ 2.50317364e-03,  1.60774736e-03, -1.31131610e-03,\n",
       "         3.25358291e-03, -3.45657881e-03,  3.10687021e-03,\n",
       "         8.07048095e-05, -1.60382760e-03,  2.21800366e-03,\n",
       "         3.80223803e-03,  2.03777547e-03,  6.07914511e-03,\n",
       "         5.77825629e-03,  8.13302961e-03, -8.19842245e-03,\n",
       "        -5.29948817e-03, -1.02175753e-03,  6.19234058e-03,\n",
       "         1.75706459e-03,  1.96479151e-03],\n",
       "       [-8.92988528e-04, -2.19285134e-04, -6.08910390e-04,\n",
       "        -7.38743497e-06,  1.18535675e-03, -5.12088598e-04,\n",
       "         8.15935557e-04,  3.06955080e-04, -1.05406376e-04,\n",
       "        -9.92605296e-04, -2.47121233e-04, -2.30693139e-03,\n",
       "        -1.41020465e-03, -1.41465760e-03,  7.29897292e-04,\n",
       "         1.17960115e-03,  2.50409302e-04, -1.42929386e-03,\n",
       "        -6.41850617e-04, -4.15898170e-04],\n",
       "       [-3.52609874e-03, -7.85276761e-04,  1.14245680e-03,\n",
       "        -2.74954819e-03,  1.90605469e-03, -2.28651733e-03,\n",
       "        -2.71922047e-03, -2.36862021e-03,  3.18438697e-03,\n",
       "        -8.10477872e-03, -4.17337621e-03, -7.85404096e-03,\n",
       "        -1.40569848e-02, -1.01748958e-02,  1.11617865e-02,\n",
       "         1.18290623e-02, -3.81928148e-04, -9.41944143e-03,\n",
       "        -3.88720724e-03, -2.57716870e-03],\n",
       "       [ 1.21291479e-03, -5.81099502e-03,  3.69707510e-03,\n",
       "        -1.76782619e-04, -4.80478232e-04, -6.42640532e-04,\n",
       "        -1.25576431e-03,  6.49974560e-04,  4.63465442e-04,\n",
       "        -3.40319615e-05, -7.80369742e-05,  7.46012167e-04,\n",
       "        -1.10774651e-04,  1.06846213e-04, -4.15915614e-04,\n",
       "        -2.68614261e-04, -1.02455418e-04,  2.37626473e-04,\n",
       "         5.59177009e-04,  6.88236533e-06],\n",
       "       [ 1.56681802e-03,  2.89427817e-03, -1.32136257e-03,\n",
       "        -1.82832030e-03, -1.45135428e-03, -8.38259043e-04,\n",
       "        -1.21056438e-03, -1.24835833e-03,  5.63079730e-04,\n",
       "         3.55165609e-04,  1.99163298e-04, -5.93972161e-04,\n",
       "        -6.77369999e-04,  4.47986535e-04,  1.79600092e-03,\n",
       "         1.39570771e-03, -6.56739391e-04,  1.09982300e-04,\n",
       "         8.36307287e-04,  1.29181111e-03],\n",
       "       [ 3.32204420e-04, -1.34540462e-03, -4.91182168e-04,\n",
       "        -1.33883299e-03, -9.99134625e-04, -8.66960219e-05,\n",
       "         1.00088586e-03,  1.88109758e-03, -2.50673065e-03,\n",
       "        -2.74457465e-04,  3.49235785e-03,  5.93003917e-04,\n",
       "        -2.20961814e-03, -2.01414481e-03,  1.25308275e-03,\n",
       "        -1.27031315e-03, -2.65719081e-04,  1.05843237e-03,\n",
       "         1.55989864e-03, -7.58764841e-04],\n",
       "       [ 4.12003078e-03, -6.28388250e-04,  2.50942637e-03,\n",
       "         1.93743359e-03, -2.03568999e-03, -1.80698314e-03,\n",
       "        -2.34181338e-03, -4.96058723e-05, -8.24051019e-04,\n",
       "         8.47423923e-04, -6.90072287e-04, -1.03092147e-02,\n",
       "        -2.34999631e-03,  1.77067564e-03,  9.07286593e-05,\n",
       "         1.46556828e-03,  1.59589409e-03, -1.56225544e-03,\n",
       "         2.34329386e-04, -1.14487568e-03]])"
      ]
     },
     "execution_count": 56,
     "metadata": {},
     "output_type": "execute_result"
    }
   ],
   "source": [
    "U[:10, :20]"
   ]
  },
  {
   "cell_type": "code",
   "execution_count": 57,
   "metadata": {
    "_uuid": "2594c8c72673680651abb526a94cc693eccdd578"
   },
   "outputs": [
    {
     "name": "stdout",
     "output_type": "stream",
     "text": [
      "CPU times: user 2.52 s, sys: 2.05 s, total: 4.57 s\n",
      "Wall time: 4.57 s\n"
     ]
    }
   ],
   "source": [
    "%%time\n",
    "tree = spatial.KDTree(U)"
   ]
  },
  {
   "cell_type": "code",
   "execution_count": 58,
   "metadata": {
    "_uuid": "ff051eb90d2a5417540ae619e672403fbdff6a87"
   },
   "outputs": [
    {
     "data": {
      "text/html": [
       "<div>\n",
       "<style scoped>\n",
       "    .dataframe tbody tr th:only-of-type {\n",
       "        vertical-align: middle;\n",
       "    }\n",
       "\n",
       "    .dataframe tbody tr th {\n",
       "        vertical-align: top;\n",
       "    }\n",
       "\n",
       "    .dataframe thead th {\n",
       "        text-align: right;\n",
       "    }\n",
       "</style>\n",
       "<table border=\"1\" class=\"dataframe\">\n",
       "  <thead>\n",
       "    <tr style=\"text-align: right;\">\n",
       "      <th></th>\n",
       "      <th>teacher_id</th>\n",
       "      <th>user_ind</th>\n",
       "    </tr>\n",
       "  </thead>\n",
       "  <tbody>\n",
       "    <tr>\n",
       "      <th>5</th>\n",
       "      <td>49.0</td>\n",
       "      <td>5</td>\n",
       "    </tr>\n",
       "  </tbody>\n",
       "</table>\n",
       "</div>"
      ],
      "text/plain": [
       "   teacher_id  user_ind\n",
       "5        49.0         5"
      ]
     },
     "execution_count": 58,
     "metadata": {},
     "output_type": "execute_result"
    }
   ],
   "source": [
    "# тут начинается функция\n",
    "user_ref.loc[user_ref.teacher_id == teacher_id, :]"
   ]
  },
  {
   "cell_type": "code",
   "execution_count": 59,
   "metadata": {
    "_uuid": "e27035c163ac89bb04e70abe3d20fbd0f82a0dc7"
   },
   "outputs": [
    {
     "data": {
      "text/plain": [
       "array([-3.52609874e-03, -7.85276761e-04,  1.14245680e-03, -2.74954819e-03,\n",
       "        1.90605469e-03, -2.28651733e-03, -2.71922047e-03, -2.36862021e-03,\n",
       "        3.18438697e-03, -8.10477872e-03, -4.17337621e-03, -7.85404096e-03,\n",
       "       -1.40569848e-02, -1.01748958e-02,  1.11617865e-02,  1.18290623e-02,\n",
       "       -3.81928148e-04, -9.41944143e-03, -3.88720724e-03, -2.57716870e-03,\n",
       "        1.03582281e-02,  1.05591094e-03, -2.93360238e-04,  8.62025419e-04,\n",
       "       -2.12751967e-03,  8.97408904e-04, -8.33131979e-03,  4.32798166e-03,\n",
       "        3.08573725e-03,  1.01466474e-03, -9.33954927e-04,  1.55702545e-03,\n",
       "       -1.84458659e-03, -7.92260986e-03, -1.85940213e-02, -2.40840322e-02,\n",
       "        8.36780871e-03, -5.80270205e-03,  6.38466773e-04, -1.54879548e-03,\n",
       "        1.59379293e-03, -4.19390170e-03, -7.05520144e-03, -2.10686695e-03,\n",
       "       -2.78072231e-03, -8.59884445e-03,  1.83716910e-02, -2.35344951e-03,\n",
       "       -4.98693598e-03, -1.01456419e-02, -9.07919735e-03, -6.79170097e-03,\n",
       "       -2.38377816e-04, -2.92373428e-03, -2.47032074e-03,  2.74913833e-03,\n",
       "        1.17391753e-03,  1.69761379e-03, -1.64446665e-03,  1.13840915e-03,\n",
       "       -2.53012074e-03, -1.32140682e-03,  1.06067900e-03, -4.55893073e-04,\n",
       "       -1.83958038e-03,  4.10585132e-04,  6.63680759e-04,  1.96026006e-03,\n",
       "       -9.74922306e-05, -1.83586214e-03, -8.26381979e-03,  5.89713022e-03,\n",
       "       -1.25480524e-02,  1.63815633e-03,  9.90598660e-03,  3.04635484e-03,\n",
       "       -2.32712509e-03, -4.74175743e-03, -8.56365176e-03, -7.08413890e-03,\n",
       "       -1.68011837e-02, -6.40253643e-03,  6.49032309e-03, -6.32396584e-04,\n",
       "       -2.91821754e-04,  5.82602274e-05, -2.69325077e-04,  1.42334468e-04,\n",
       "        1.65889919e-03, -9.04012628e-04, -1.00740578e-03, -1.29701116e-03,\n",
       "       -2.08653535e-03, -9.89673234e-04,  1.53907307e-03, -5.89639712e-04,\n",
       "        4.99182561e-03,  2.73570118e-02,  7.21686384e-04,  2.16619823e-03])"
      ]
     },
     "execution_count": 59,
     "metadata": {},
     "output_type": "execute_result"
    }
   ],
   "source": [
    "U[user_ref.loc[user_ref.teacher_id == teacher_id, 'user_ind'].values[0], :]"
   ]
  },
  {
   "cell_type": "code",
   "execution_count": 61,
   "metadata": {
    "_uuid": "453c7dc5d90e685e1b1fa94c4f974cff13389e01"
   },
   "outputs": [
    {
     "data": {
      "text/plain": [
       "5"
      ]
     },
     "execution_count": 61,
     "metadata": {},
     "output_type": "execute_result"
    }
   ],
   "source": [
    "user_ref.loc[user_ref.teacher_id == teacher_id, 'user_ind'].values[0]"
   ]
  },
  {
   "cell_type": "code",
   "execution_count": 62,
   "metadata": {
    "_uuid": "2c32fea04513f626cabbd27ac5dea1831ff80b0d"
   },
   "outputs": [
    {
     "name": "stdout",
     "output_type": "stream",
     "text": [
      "[    5  1576 44781 50408 28062 51266 24273  7282 48821 11079  5145 26806\n",
      " 51643 16457 10571   146  8787 26834 27125 53483 10352 26445 30504  8672\n",
      " 53411 44862 25317  1568  7685  8365  3902  7128  8622 42652  5106 13675\n",
      " 26143  4594 10958   788 35904 27297  5456 53592 24751 22315 14205 53430\n",
      " 35790 11984 18066 31021  7234 50395 18988 12576  8952 19208 18348  2359\n",
      "  2712 26189 40352 27206 25015 26388  3302  5744 27710 27012 11074 50625\n",
      " 28049 53058 30695 24152 50510 22638  8419 13132 42668 40059 50931  9777\n",
      "  5820  9983 22958  4300 22672 27764 35379 23137 17017  7713  1994   131\n",
      " 27156 23493 27191 28410]\n",
      "CPU times: user 712 ms, sys: 0 ns, total: 712 ms\n",
      "Wall time: 761 ms\n"
     ]
    }
   ],
   "source": [
    "%%time\n",
    "nn_user_ind = tree.query(U[user_ref.loc[user_ref.teacher_id == teacher_id, 'user_ind'].values[0], :], k = 100)[1]\n",
    "print(nn_user_ind)"
   ]
  },
  {
   "cell_type": "code",
   "execution_count": 63,
   "metadata": {
    "_uuid": "5fae0f9623dacc8fdcc1e69e9509bfab136f4ee6"
   },
   "outputs": [
    {
     "data": {
      "text/plain": [
       "array([4.9000000e+01, 1.7757000e+04, 1.7853000e+04, 7.9029000e+04,\n",
       "       2.5133400e+05, 2.5232700e+05, 3.1243000e+05, 3.7042300e+05,\n",
       "       4.5810100e+05, 5.1596700e+05, 5.5927200e+05, 5.9073900e+05,\n",
       "       6.0892300e+05, 6.5811500e+05, 6.6189900e+05, 2.2851610e+06,\n",
       "       2.3095740e+06, 2.3198170e+06, 2.4551950e+06, 2.4645100e+06,\n",
       "       2.4686820e+06, 2.5066410e+06, 2.5091000e+06, 2.5676260e+06,\n",
       "       2.5736740e+06, 2.5945220e+06, 2.5986720e+06, 2.6072230e+06,\n",
       "       2.6217060e+06, 2.6881510e+06, 2.6888410e+06, 2.7094990e+06,\n",
       "       2.7590680e+06, 2.7933430e+06, 2.7985220e+06, 2.7985830e+06,\n",
       "       3.3187030e+06, 3.5093740e+06, 3.6632660e+06, 3.6662280e+06,\n",
       "       3.6705890e+06, 3.8315280e+06, 4.0050720e+06, 4.1446350e+06,\n",
       "       4.1522570e+06, 4.1693190e+06, 4.1780490e+06, 4.2788400e+06,\n",
       "       4.2854700e+06, 4.2862190e+06, 4.2917830e+06, 4.2945180e+06,\n",
       "       4.2964110e+06, 4.3034040e+06, 4.3053530e+06, 4.3152700e+06,\n",
       "       4.3204320e+06, 4.3271190e+06, 4.3731880e+06, 4.3774170e+06,\n",
       "       4.3980140e+06, 4.4025810e+06, 4.4427180e+06, 4.4457960e+06,\n",
       "       4.4574610e+06, 4.4599200e+06, 4.4604590e+06, 4.4612230e+06,\n",
       "       4.4613340e+06, 4.4637060e+06, 4.4979710e+06, 4.5058500e+06,\n",
       "       4.7005780e+06, 4.7008040e+06, 4.7153680e+06, 4.9233410e+06,\n",
       "       4.9350010e+06, 4.9649380e+06, 5.3016990e+06, 5.3308990e+06,\n",
       "       5.3361120e+06, 9.2711590e+06, 9.3479040e+06, 9.9914010e+06,\n",
       "       9.9916220e+06, 1.1540452e+07, 1.1560484e+07, 1.2301828e+07,\n",
       "       1.2679666e+07, 1.2679728e+07, 1.2693218e+07, 1.2798273e+07,\n",
       "       1.2897539e+07, 1.3013042e+07, 1.3173449e+07, 1.3572429e+07,\n",
       "       1.3765278e+07, 1.3800365e+07, 1.3871487e+07, 1.3957877e+07])"
      ]
     },
     "execution_count": 63,
     "metadata": {},
     "output_type": "execute_result"
    }
   ],
   "source": [
    "user_ref.loc[user_ref.user_ind.isin(nn_user_ind), 'teacher_id'].values"
   ]
  },
  {
   "cell_type": "code",
   "execution_count": 64,
   "metadata": {
    "_uuid": "2240d219685e981c2d1a9097691436e2b6d8895f"
   },
   "outputs": [
    {
     "data": {
      "text/plain": [
       "array([12897539,  4457461,  4398014,  2621706,       49,   252327,\n",
       "        2598672,  2464510,  4463706,  2709499,  4461223,  4286219,\n",
       "        4460459,  2594522, 12679666,    17853, 13173449,  4442718,\n",
       "        2798522,  2798583,  4459920, 13800365,  3509374,  4445796,\n",
       "       11560484, 12679728,   251334,   559272,   370423,  4402581,\n",
       "        2759068, 13765278,  4373188, 13957877,  4294518,   658115,\n",
       "        4461334,  4505850,  4305353,  4497971,  4377417,  2793343,\n",
       "         608923,    79029, 13871487, 12798273,  2468682,   661899,\n",
       "       11540452])"
      ]
     },
     "execution_count": 64,
     "metadata": {},
     "output_type": "execute_result"
    }
   ],
   "source": [
    "next_themes[next_themes.teacher_id.isin(user_ref.loc[user_ref.user_ind.isin(nn_user_ind), \n",
    "                                                     'teacher_id'].values)].teacher_id.unique()"
   ]
  },
  {
   "cell_type": "code",
   "execution_count": 65,
   "metadata": {
    "_uuid": "eef028b4c8fbca32e72c72d7efa82461185f607f"
   },
   "outputs": [
    {
     "data": {
      "text/html": [
       "<div>\n",
       "<style scoped>\n",
       "    .dataframe tbody tr th:only-of-type {\n",
       "        vertical-align: middle;\n",
       "    }\n",
       "\n",
       "    .dataframe tbody tr th {\n",
       "        vertical-align: top;\n",
       "    }\n",
       "\n",
       "    .dataframe thead th {\n",
       "        text-align: right;\n",
       "    }\n",
       "</style>\n",
       "<table border=\"1\" class=\"dataframe\">\n",
       "  <thead>\n",
       "    <tr style=\"text-align: right;\">\n",
       "      <th></th>\n",
       "      <th>teacher_id</th>\n",
       "      <th>theme</th>\n",
       "    </tr>\n",
       "  </thead>\n",
       "  <tbody>\n",
       "    <tr>\n",
       "      <th>96894</th>\n",
       "      <td>12897539</td>\n",
       "      <td>4.2.8_Русский язык_ООО</td>\n",
       "    </tr>\n",
       "    <tr>\n",
       "      <th>96895</th>\n",
       "      <td>12897539</td>\n",
       "      <td>4.3_Русский язык_ООО</td>\n",
       "    </tr>\n",
       "    <tr>\n",
       "      <th>96896</th>\n",
       "      <td>12897539</td>\n",
       "      <td>4.2_Русский язык_ООО</td>\n",
       "    </tr>\n",
       "    <tr>\n",
       "      <th>96897</th>\n",
       "      <td>12897539</td>\n",
       "      <td>4.3_Русский язык_ООО</td>\n",
       "    </tr>\n",
       "    <tr>\n",
       "      <th>96898</th>\n",
       "      <td>12897539</td>\n",
       "      <td>4.5.1_Русский язык_ООО</td>\n",
       "    </tr>\n",
       "    <tr>\n",
       "      <th>96899</th>\n",
       "      <td>12897539</td>\n",
       "      <td>4.5.4.1_Русский язык_ООО</td>\n",
       "    </tr>\n",
       "    <tr>\n",
       "      <th>96900</th>\n",
       "      <td>12897539</td>\n",
       "      <td>4.2.8_Русский язык_ООО</td>\n",
       "    </tr>\n",
       "    <tr>\n",
       "      <th>96901</th>\n",
       "      <td>12897539</td>\n",
       "      <td>4.3_Русский язык_ООО</td>\n",
       "    </tr>\n",
       "    <tr>\n",
       "      <th>96902</th>\n",
       "      <td>12897539</td>\n",
       "      <td>4.2_Русский язык_ООО</td>\n",
       "    </tr>\n",
       "    <tr>\n",
       "      <th>96903</th>\n",
       "      <td>12897539</td>\n",
       "      <td>4.3_Русский язык_ООО</td>\n",
       "    </tr>\n",
       "    <tr>\n",
       "      <th>96904</th>\n",
       "      <td>12897539</td>\n",
       "      <td>4.5.1_Русский язык_ООО</td>\n",
       "    </tr>\n",
       "    <tr>\n",
       "      <th>96905</th>\n",
       "      <td>12897539</td>\n",
       "      <td>4.5.4.1_Русский язык_ООО</td>\n",
       "    </tr>\n",
       "    <tr>\n",
       "      <th>96906</th>\n",
       "      <td>12897539</td>\n",
       "      <td>4.6_Русский язык_ООО</td>\n",
       "    </tr>\n",
       "    <tr>\n",
       "      <th>96907</th>\n",
       "      <td>12897539</td>\n",
       "      <td>4.6.11_Русский язык_ООО</td>\n",
       "    </tr>\n",
       "    <tr>\n",
       "      <th>96908</th>\n",
       "      <td>12897539</td>\n",
       "      <td>4.6_Русский язык_ООО</td>\n",
       "    </tr>\n",
       "    <tr>\n",
       "      <th>96909</th>\n",
       "      <td>12897539</td>\n",
       "      <td>4.6.1_Русский язык_ООО</td>\n",
       "    </tr>\n",
       "    <tr>\n",
       "      <th>96910</th>\n",
       "      <td>12897539</td>\n",
       "      <td>4.6.3_Русский язык_ООО</td>\n",
       "    </tr>\n",
       "    <tr>\n",
       "      <th>96911</th>\n",
       "      <td>12897539</td>\n",
       "      <td>4.6.4_Русский язык_ООО</td>\n",
       "    </tr>\n",
       "    <tr>\n",
       "      <th>96912</th>\n",
       "      <td>12897539</td>\n",
       "      <td>4.6.7_Русский язык_ООО</td>\n",
       "    </tr>\n",
       "    <tr>\n",
       "      <th>96913</th>\n",
       "      <td>12897539</td>\n",
       "      <td>4.6_Русский язык_ООО</td>\n",
       "    </tr>\n",
       "    <tr>\n",
       "      <th>96914</th>\n",
       "      <td>12897539</td>\n",
       "      <td>4.6.1_Русский язык_ООО</td>\n",
       "    </tr>\n",
       "    <tr>\n",
       "      <th>96915</th>\n",
       "      <td>12897539</td>\n",
       "      <td>4.6.3_Русский язык_ООО</td>\n",
       "    </tr>\n",
       "    <tr>\n",
       "      <th>96916</th>\n",
       "      <td>12897539</td>\n",
       "      <td>4.6.4_Русский язык_ООО</td>\n",
       "    </tr>\n",
       "    <tr>\n",
       "      <th>96917</th>\n",
       "      <td>12897539</td>\n",
       "      <td>4.6.7_Русский язык_ООО</td>\n",
       "    </tr>\n",
       "    <tr>\n",
       "      <th>96918</th>\n",
       "      <td>12897539</td>\n",
       "      <td>4.6_Русский язык_ООО</td>\n",
       "    </tr>\n",
       "    <tr>\n",
       "      <th>96919</th>\n",
       "      <td>12897539</td>\n",
       "      <td>4.6.3_Русский язык_ООО</td>\n",
       "    </tr>\n",
       "    <tr>\n",
       "      <th>96920</th>\n",
       "      <td>12897539</td>\n",
       "      <td>4.6.4_Русский язык_ООО</td>\n",
       "    </tr>\n",
       "    <tr>\n",
       "      <th>96921</th>\n",
       "      <td>12897539</td>\n",
       "      <td>4.6.7_Русский язык_ООО</td>\n",
       "    </tr>\n",
       "    <tr>\n",
       "      <th>96922</th>\n",
       "      <td>12897539</td>\n",
       "      <td>4.6_Русский язык_ООО</td>\n",
       "    </tr>\n",
       "    <tr>\n",
       "      <th>96923</th>\n",
       "      <td>12897539</td>\n",
       "      <td>4.6.3_Русский язык_ООО</td>\n",
       "    </tr>\n",
       "    <tr>\n",
       "      <th>...</th>\n",
       "      <td>...</td>\n",
       "      <td>...</td>\n",
       "    </tr>\n",
       "    <tr>\n",
       "      <th>6115801</th>\n",
       "      <td>11540452</td>\n",
       "      <td>4.9.1.1_Русский язык_ООО</td>\n",
       "    </tr>\n",
       "    <tr>\n",
       "      <th>6115802</th>\n",
       "      <td>11540452</td>\n",
       "      <td>4.9.1.2.3_Русский язык_ООО</td>\n",
       "    </tr>\n",
       "    <tr>\n",
       "      <th>6115803</th>\n",
       "      <td>11540452</td>\n",
       "      <td>4.9.1.2.3_Русский язык_ООО</td>\n",
       "    </tr>\n",
       "    <tr>\n",
       "      <th>6115804</th>\n",
       "      <td>11540452</td>\n",
       "      <td>4.9.1.2.3_Русский язык_ООО</td>\n",
       "    </tr>\n",
       "    <tr>\n",
       "      <th>6115805</th>\n",
       "      <td>11540452</td>\n",
       "      <td>4.9.1.2.3_Русский язык_ООО</td>\n",
       "    </tr>\n",
       "    <tr>\n",
       "      <th>6115806</th>\n",
       "      <td>11540452</td>\n",
       "      <td>4.9.1.2.3_Русский язык_ООО</td>\n",
       "    </tr>\n",
       "    <tr>\n",
       "      <th>6115807</th>\n",
       "      <td>11540452</td>\n",
       "      <td>4.9.1.2.3_Русский язык_ООО</td>\n",
       "    </tr>\n",
       "    <tr>\n",
       "      <th>6115808</th>\n",
       "      <td>11540452</td>\n",
       "      <td>4.9.1_Русский язык_ООО</td>\n",
       "    </tr>\n",
       "    <tr>\n",
       "      <th>6115809</th>\n",
       "      <td>11540452</td>\n",
       "      <td>4.9.1.1_Русский язык_ООО</td>\n",
       "    </tr>\n",
       "    <tr>\n",
       "      <th>6115810</th>\n",
       "      <td>11540452</td>\n",
       "      <td>4.9.1.2.3_Русский язык_ООО</td>\n",
       "    </tr>\n",
       "    <tr>\n",
       "      <th>6115811</th>\n",
       "      <td>11540452</td>\n",
       "      <td>4.9.1.2.3_Русский язык_ООО</td>\n",
       "    </tr>\n",
       "    <tr>\n",
       "      <th>6115812</th>\n",
       "      <td>11540452</td>\n",
       "      <td>4.9.1.2.3_Русский язык_ООО</td>\n",
       "    </tr>\n",
       "    <tr>\n",
       "      <th>6115813</th>\n",
       "      <td>11540452</td>\n",
       "      <td>4.9.1.2.3_Русский язык_ООО</td>\n",
       "    </tr>\n",
       "    <tr>\n",
       "      <th>6115814</th>\n",
       "      <td>11540452</td>\n",
       "      <td>4.9.1.2.3_Русский язык_ООО</td>\n",
       "    </tr>\n",
       "    <tr>\n",
       "      <th>6115815</th>\n",
       "      <td>11540452</td>\n",
       "      <td>4.9.1.2.3_Русский язык_ООО</td>\n",
       "    </tr>\n",
       "    <tr>\n",
       "      <th>6115816</th>\n",
       "      <td>11540452</td>\n",
       "      <td>4.9.1_Русский язык_ООО</td>\n",
       "    </tr>\n",
       "    <tr>\n",
       "      <th>6115817</th>\n",
       "      <td>11540452</td>\n",
       "      <td>4.9.1.1_Русский язык_ООО</td>\n",
       "    </tr>\n",
       "    <tr>\n",
       "      <th>6115818</th>\n",
       "      <td>11540452</td>\n",
       "      <td>4.9.1.2.3_Русский язык_ООО</td>\n",
       "    </tr>\n",
       "    <tr>\n",
       "      <th>6115819</th>\n",
       "      <td>11540452</td>\n",
       "      <td>4.9.1.2.3_Русский язык_ООО</td>\n",
       "    </tr>\n",
       "    <tr>\n",
       "      <th>6115820</th>\n",
       "      <td>11540452</td>\n",
       "      <td>4.9.1.2.3_Русский язык_ООО</td>\n",
       "    </tr>\n",
       "    <tr>\n",
       "      <th>6115821</th>\n",
       "      <td>11540452</td>\n",
       "      <td>4.9.1.2.3_Русский язык_ООО</td>\n",
       "    </tr>\n",
       "    <tr>\n",
       "      <th>6115915</th>\n",
       "      <td>11540452</td>\n",
       "      <td>4.3.3_Литература_ООО</td>\n",
       "    </tr>\n",
       "    <tr>\n",
       "      <th>6115916</th>\n",
       "      <td>11540452</td>\n",
       "      <td>4.3.3_Литература_ООО</td>\n",
       "    </tr>\n",
       "    <tr>\n",
       "      <th>6115917</th>\n",
       "      <td>11540452</td>\n",
       "      <td>4.3.3_Литература_ООО</td>\n",
       "    </tr>\n",
       "    <tr>\n",
       "      <th>6115918</th>\n",
       "      <td>11540452</td>\n",
       "      <td>4.3.3_Литература_ООО</td>\n",
       "    </tr>\n",
       "    <tr>\n",
       "      <th>6115919</th>\n",
       "      <td>11540452</td>\n",
       "      <td>4.3.3_Литература_ООО</td>\n",
       "    </tr>\n",
       "    <tr>\n",
       "      <th>6115920</th>\n",
       "      <td>11540452</td>\n",
       "      <td>4.3.3_Литература_ООО</td>\n",
       "    </tr>\n",
       "    <tr>\n",
       "      <th>6115921</th>\n",
       "      <td>11540452</td>\n",
       "      <td>4.3.3_Литература_ООО</td>\n",
       "    </tr>\n",
       "    <tr>\n",
       "      <th>6115922</th>\n",
       "      <td>11540452</td>\n",
       "      <td>4.3.3_Литература_ООО</td>\n",
       "    </tr>\n",
       "    <tr>\n",
       "      <th>6115923</th>\n",
       "      <td>11540452</td>\n",
       "      <td>4.3.3_Литература_ООО</td>\n",
       "    </tr>\n",
       "  </tbody>\n",
       "</table>\n",
       "<p>1597 rows × 2 columns</p>\n",
       "</div>"
      ],
      "text/plain": [
       "         teacher_id                       theme\n",
       "96894      12897539      4.2.8_Русский язык_ООО\n",
       "96895      12897539        4.3_Русский язык_ООО\n",
       "96896      12897539        4.2_Русский язык_ООО\n",
       "96897      12897539        4.3_Русский язык_ООО\n",
       "96898      12897539      4.5.1_Русский язык_ООО\n",
       "96899      12897539    4.5.4.1_Русский язык_ООО\n",
       "96900      12897539      4.2.8_Русский язык_ООО\n",
       "96901      12897539        4.3_Русский язык_ООО\n",
       "96902      12897539        4.2_Русский язык_ООО\n",
       "96903      12897539        4.3_Русский язык_ООО\n",
       "96904      12897539      4.5.1_Русский язык_ООО\n",
       "96905      12897539    4.5.4.1_Русский язык_ООО\n",
       "96906      12897539        4.6_Русский язык_ООО\n",
       "96907      12897539     4.6.11_Русский язык_ООО\n",
       "96908      12897539        4.6_Русский язык_ООО\n",
       "96909      12897539      4.6.1_Русский язык_ООО\n",
       "96910      12897539      4.6.3_Русский язык_ООО\n",
       "96911      12897539      4.6.4_Русский язык_ООО\n",
       "96912      12897539      4.6.7_Русский язык_ООО\n",
       "96913      12897539        4.6_Русский язык_ООО\n",
       "96914      12897539      4.6.1_Русский язык_ООО\n",
       "96915      12897539      4.6.3_Русский язык_ООО\n",
       "96916      12897539      4.6.4_Русский язык_ООО\n",
       "96917      12897539      4.6.7_Русский язык_ООО\n",
       "96918      12897539        4.6_Русский язык_ООО\n",
       "96919      12897539      4.6.3_Русский язык_ООО\n",
       "96920      12897539      4.6.4_Русский язык_ООО\n",
       "96921      12897539      4.6.7_Русский язык_ООО\n",
       "96922      12897539        4.6_Русский язык_ООО\n",
       "96923      12897539      4.6.3_Русский язык_ООО\n",
       "...             ...                         ...\n",
       "6115801    11540452    4.9.1.1_Русский язык_ООО\n",
       "6115802    11540452  4.9.1.2.3_Русский язык_ООО\n",
       "6115803    11540452  4.9.1.2.3_Русский язык_ООО\n",
       "6115804    11540452  4.9.1.2.3_Русский язык_ООО\n",
       "6115805    11540452  4.9.1.2.3_Русский язык_ООО\n",
       "6115806    11540452  4.9.1.2.3_Русский язык_ООО\n",
       "6115807    11540452  4.9.1.2.3_Русский язык_ООО\n",
       "6115808    11540452      4.9.1_Русский язык_ООО\n",
       "6115809    11540452    4.9.1.1_Русский язык_ООО\n",
       "6115810    11540452  4.9.1.2.3_Русский язык_ООО\n",
       "6115811    11540452  4.9.1.2.3_Русский язык_ООО\n",
       "6115812    11540452  4.9.1.2.3_Русский язык_ООО\n",
       "6115813    11540452  4.9.1.2.3_Русский язык_ООО\n",
       "6115814    11540452  4.9.1.2.3_Русский язык_ООО\n",
       "6115815    11540452  4.9.1.2.3_Русский язык_ООО\n",
       "6115816    11540452      4.9.1_Русский язык_ООО\n",
       "6115817    11540452    4.9.1.1_Русский язык_ООО\n",
       "6115818    11540452  4.9.1.2.3_Русский язык_ООО\n",
       "6115819    11540452  4.9.1.2.3_Русский язык_ООО\n",
       "6115820    11540452  4.9.1.2.3_Русский язык_ООО\n",
       "6115821    11540452  4.9.1.2.3_Русский язык_ООО\n",
       "6115915    11540452        4.3.3_Литература_ООО\n",
       "6115916    11540452        4.3.3_Литература_ООО\n",
       "6115917    11540452        4.3.3_Литература_ООО\n",
       "6115918    11540452        4.3.3_Литература_ООО\n",
       "6115919    11540452        4.3.3_Литература_ООО\n",
       "6115920    11540452        4.3.3_Литература_ООО\n",
       "6115921    11540452        4.3.3_Литература_ООО\n",
       "6115922    11540452        4.3.3_Литература_ООО\n",
       "6115923    11540452        4.3.3_Литература_ООО\n",
       "\n",
       "[1597 rows x 2 columns]"
      ]
     },
     "execution_count": 65,
     "metadata": {},
     "output_type": "execute_result"
    }
   ],
   "source": [
    "next_themes[next_themes.teacher_id.isin(user_ref.loc[user_ref.user_ind.isin(nn_user_ind), \n",
    "                                                     'teacher_id'].values)]"
   ]
  },
  {
   "cell_type": "code",
   "execution_count": 66,
   "metadata": {
    "_uuid": "8df00057220c49c54b1d6f462d9cf83baa8e3bd7"
   },
   "outputs": [
    {
     "data": {
      "text/plain": [
       "array(['4.2.8_Русский язык_ООО', '4.3_Русский язык_ООО',\n",
       "       '4.2_Русский язык_ООО', '4.5.1_Русский язык_ООО',\n",
       "       '4.5.4.1_Русский язык_ООО', '4.6_Русский язык_ООО',\n",
       "       '4.6.11_Русский язык_ООО', '4.6.1_Русский язык_ООО',\n",
       "       '4.6.3_Русский язык_ООО', '4.6.4_Русский язык_ООО',\n",
       "       '4.6.7_Русский язык_ООО', '4.6.2_Русский язык_ООО',\n",
       "       '4.2.1_Литература_ООО', '4.2.3_Литература_ООО',\n",
       "       '4.3.1_Литература_ООО', '4.3.7_Литература_ООО',\n",
       "       '4.7.4_Русский язык_ООО', '4.7.4.2_Русский язык_ООО',\n",
       "       '4.7.5_Русский язык_ООО', '4.7.5.1_Русский язык_ООО',\n",
       "       '4.7.5.2_Русский язык_ООО', '4.7.5.3_Русский язык_ООО',\n",
       "       '4.7.5.4_Русский язык_ООО', '4.7.5.9_Русский язык_ООО',\n",
       "       '4.7.7_Русский язык_ООО', '4.7.9_Русский язык_ООО',\n",
       "       '4.7.9.4_Русский язык_ООО', '4.7.9.2_Русский язык_ООО',\n",
       "       '4.7.9.3_Русский язык_ООО', '4.7.9.5_Русский язык_ООО',\n",
       "       '4.1.5_Русский язык_ООО', '4.1.6.1_Русский язык_ООО',\n",
       "       '4.1.6.2_Русский язык_ООО', '4.1.6.3_Русский язык_ООО',\n",
       "       '4.1.6.5_Русский язык_ООО', '4.8.4.3_Русский язык_ООО',\n",
       "       '4.8.4.4_Русский язык_ООО', '4.8.4.5_Русский язык_ООО',\n",
       "       '4.3_Литература_ООО', '4.3.2_Литература_ООО',\n",
       "       '4.8_Русский язык_ООО', '4.8.2_Русский язык_ООО',\n",
       "       '4.8.2.1_Русский язык_ООО', '4.8.2.2_Русский язык_ООО',\n",
       "       '2.9_Русский язык_ООО', '4.8.2.1.4_Русский язык_ООО',\n",
       "       '4.6.6_Русский язык_ООО', '4.6.8_Русский язык_ООО',\n",
       "       '4.5_Русский язык_ООО', '2.10.5_Русский язык_ООО',\n",
       "       '4.3.6_Литература_ООО', '4.3.4_Литература_ООО',\n",
       "       '1.15.2_Русский язык_ООО', '2.9.3_Русский язык_ООО',\n",
       "       '4.5.5_Русский язык_ООО', '4.5.4.4_Русский язык_ООО',\n",
       "       '4.3.5_Литература_ООО', '4.3.3_Литература_ООО',\n",
       "       '8.4_Литература_ООО', '8.4.3_Литература_ООО',\n",
       "       '8.6.1_Литература_ООО', '8.6.25_Литература_ООО',\n",
       "       '8.6.27_Литература_ООО', '4.5.4.5_Русский язык_ООО',\n",
       "       '4.5.5.1_Русский язык_ООО', '4.5.4.7_Русский язык_ООО',\n",
       "       '4.5.5.2_Русский язык_ООО', '4.1_Литература_ООО',\n",
       "       '4.1.1_Литература_ООО', '4.1.2_Литература_ООО',\n",
       "       '4.1.7_Русский язык_ООО', '4.1.8_Русский язык_ООО',\n",
       "       '4.7.5.5_Русский язык_ООО', '4.7.5.6_Русский язык_ООО',\n",
       "       '4.7.5.7_Русский язык_ООО', '4.7.5.8_Русский язык_ООО',\n",
       "       '3.4.5_Русский язык_ООО', '1.16.1_Русский язык_ООО',\n",
       "       '4.9.1.2.6_Русский язык_ООО', '8.1.2_Литература_ООО',\n",
       "       '8.4.2_Литература_ООО', '8.6.13_Литература_ООО',\n",
       "       '8.6.17_Литература_ООО', '8.6.2_Литература_ООО',\n",
       "       '8.6.24_Литература_ООО', '8.6.28_Литература_ООО',\n",
       "       '8.6.29_Литература_ООО', '8.6.9_Литература_ООО',\n",
       "       '8.8_Литература_ООО', '8.9_Литература_ООО', '8.11_Литература_ООО',\n",
       "       '8.6.14_Литература_ООО', '8.6.16_Литература_ООО',\n",
       "       '8.6.18_Литература_ООО', '8.7_Литература_ООО',\n",
       "       '1.3_Русский язык_ООО', '4.9.1.2.5_Русский язык_ООО',\n",
       "       '4.5.6_Русский язык_ООО', '4.5.6.2_Русский язык_ООО',\n",
       "       '4.5.6.3_Русский язык_ООО', '4.5.4.8_Русский язык_ООО',\n",
       "       '4.5.7.4_Русский язык_ООО', '4.6.9_Русский язык_ООО',\n",
       "       '2.7_Литература_СОО', '2.7.3_Литература_СОО',\n",
       "       '4.9.1.1_Русский язык_ООО', '4.9.1.2_Русский язык_ООО',\n",
       "       '4.9.1.2.3_Русский язык_ООО', '4.9.1.2.1_Русский язык_ООО',\n",
       "       '4.9.1.2.11_Русский язык_ООО', '4.9.1.2.7_Русский язык_ООО',\n",
       "       '1.2_Литература_ООО', '1.1_Литература_ООО',\n",
       "       '4.9.1.2.4_Русский язык_ООО', '4.5.6.8_Русский язык_ООО',\n",
       "       '4.5.6.10_Русский язык_ООО', '4.3.6.3_Литература_ООО',\n",
       "       '1.4_Русский язык_ООО', '1.5_Русский язык_ООО',\n",
       "       '3.4.2_Русский язык_ООО', '1.14.8_Русский язык_ООО',\n",
       "       '1.15_Русский язык_ООО', '4.6.5_Русский язык_ООО',\n",
       "       '4.7.9.6_Русский язык_ООО', '1.14.1_Русский язык_ООО',\n",
       "       '1.14.2_Русский язык_ООО', '1.9.7_Русский язык_ООО',\n",
       "       '4.8.2.3.2_Русский язык_ООО', '4.8.2.3.4_Русский язык_ООО',\n",
       "       '4.8.2.5_Русский язык_ООО', '4.8.2.7_Русский язык_ООО',\n",
       "       '4.2_Литература_ООО', '4.2.2_Литература_ООО',\n",
       "       '4.8.1_Русский язык_ООО', '4.8.1.1_Русский язык_ООО',\n",
       "       '3.4.6_Русский язык_ООО', '4.5.4.3_Русский язык_ООО',\n",
       "       '4.8.2.4_Русский язык_ООО', '4.9.1_Русский язык_ООО',\n",
       "       '4.9.1.2.2_Русский язык_ООО', '2.3_Литература_СОО',\n",
       "       '2.3.1_Литература_СОО', '2.3.2_Литература_СОО',\n",
       "       '2.1.1_Литература_СОО', '2.1_Литература_СОО',\n",
       "       '4.8.2.2.3_Русский язык_ООО', '4.9.2.20_Русский язык_ООО',\n",
       "       '4.8.2.3_Русский язык_ООО', '4.8.2.3.1_Русский язык_ООО',\n",
       "       '4.8.2.4.1.4_Русский язык_ООО', '4.8.2.4.1.5_Русский язык_ООО',\n",
       "       '4.8.2.5.1_Русский язык_ООО', '4.9.2_Русский язык_ООО',\n",
       "       '4.9.2.5_Русский язык_ООО', '1.14_Русский язык_ООО',\n",
       "       '1.14.4_Русский язык_ООО', '1.14.5_Русский язык_ООО',\n",
       "       '1.15.4_Русский язык_ООО', '4.5.2_Русский язык_ООО',\n",
       "       '4.5.3_Русский язык_ООО', '4.5.4_Русский язык_ООО',\n",
       "       '4.5.4.2_Русский язык_ООО', '4.5.4.6_Русский язык_ООО',\n",
       "       '4.5.6.1_Русский язык_ООО', '4.5.6.4_Русский язык_ООО',\n",
       "       '4.5.6.5_Русский язык_ООО', '4.5.6.6_Русский язык_ООО',\n",
       "       '4.5.6.7_Русский язык_ООО', '4.5.6.9_Русский язык_ООО',\n",
       "       '4.5.6.11_Русский язык_ООО', '4.5.7_Русский язык_ООО',\n",
       "       '4.5.7.3_Русский язык_ООО', '4.5.7.5_Русский язык_ООО',\n",
       "       '4.9.1.2.9_Русский язык_ООО', '4.8.2.2.1_Русский язык_ООО',\n",
       "       '4.9.2.4_Русский язык_ООО', '4.8.2.3.3_Русский язык_ООО',\n",
       "       '8.4.9_Литература_ООО', '8.4.7_Литература_ООО',\n",
       "       '4.6.15_Русский язык_ООО', '4.5.7.1_Русский язык_ООО',\n",
       "       '4.5.7.2_Русский язык_ООО', '8.6_Литература_ООО',\n",
       "       '2.2_Литература_СОО', '2.2.1_Литература_СОО',\n",
       "       '2.2.2_Литература_СОО', '3.10_Литературное чтение_НОО',\n",
       "       '2.7.1_Литературное чтение_НОО', '2.5.3_Литературное чтение_НОО',\n",
       "       '4.8.1.2_Русский язык_ООО', '4.8.2.4.1.3_Русский язык_ООО',\n",
       "       '4.8.2.2.2_Русский язык_ООО', '4.8.5_Русский язык_ООО',\n",
       "       '4.3.6.6_Литература_ООО', '8.10_Литература_ООО',\n",
       "       '8.10.1_Литература_ООО', '4.8.2.4.1.6_Русский язык_ООО',\n",
       "       '6.20_Литература_ООО', '4.7.9.1_Русский язык_ООО',\n",
       "       '3.4.1_Литература_СОО', '6.5.5_Литература_СОО',\n",
       "       '6.6_Литература_СОО', '6.6.12_Литература_СОО',\n",
       "       '6.6.13_Литература_СОО', '1.1.5.3.9_Русский язык_СОО',\n",
       "       '2.6_Изобразительное искусство_ООО', '3.1_Литература_ООО',\n",
       "       '2.9.2_Русский язык_ООО', '4.6.10_Русский язык_ООО',\n",
       "       '4.6.12_Русский язык_ООО', '4.6.13_Русский язык_ООО',\n",
       "       '4.1.4_Русский язык_ООО', '4.1.6_Русский язык_ООО',\n",
       "       '4.1.3.1_Русский язык_ООО', '4.9.2.15_Русский язык_ООО',\n",
       "       '4.9.2.1_Русский язык_ООО', '4.8.2.4.3.1.1_Русский язык_ООО',\n",
       "       '4.4.2_Литература_ООО', '4.9_Русский язык_ООО',\n",
       "       '2.9.1_Русский язык_ООО', '8.3_Литература_ООО',\n",
       "       '8.3.1_Литература_ООО', '8.4.8_Литература_ООО',\n",
       "       '8.6.3_Литература_ООО', '2.5_Русский язык_ООО',\n",
       "       '4.2.9_Русский язык_ООО', '4.9.1.3_Русский язык_ООО',\n",
       "       '2.10_Русский язык_ООО', '5.2.1_Литература_ООО',\n",
       "       '5.2.2_Литература_ООО', '5.3_Литература_ООО',\n",
       "       '5.3.1_Литература_ООО', '5.3.2_Литература_ООО',\n",
       "       '5.4.1_Литература_ООО', '5.4.2_Литература_ООО',\n",
       "       '5.4.2.1_Литература_ООО', '4.6_Литература_ООО',\n",
       "       '4.6.1_Литература_ООО', '8.6.12_Литература_ООО',\n",
       "       '8.8.1_Литература_ООО', '8.8.3_Литература_ООО',\n",
       "       '3.4_Литература_СОО', '3.4.2_Литература_СОО',\n",
       "       '4.6.14_Русский язык_ООО', '4.6.17_Русский язык_ООО',\n",
       "       '4.6.18_Русский язык_ООО', '3.4.3.2_Русский язык_СОО',\n",
       "       '3.4.6_Русский язык_СОО', '6.7_Литература_СОО',\n",
       "       '6.9_Литература_СОО', '6.8_Литература_СОО'], dtype=object)"
      ]
     },
     "execution_count": 66,
     "metadata": {},
     "output_type": "execute_result"
    }
   ],
   "source": [
    "next_themes[next_themes.teacher_id.isin(user_ref.loc[user_ref.user_ind.isin(nn_user_ind), \n",
    "                                                     'teacher_id'].values)].theme.unique()"
   ]
  },
  {
   "cell_type": "code",
   "execution_count": 67,
   "metadata": {
    "_uuid": "873584a650872a0dae9502dea099b4935d9fd1d7"
   },
   "outputs": [],
   "source": [
    "mat_list = mc.loc[mc.theme.isin(next_themes[next_themes.teacher_id.isin(\n",
    "    user_ref.loc[user_ref.user_ind.isin(nn_user_ind), \n",
    "                 'teacher_id'].values)].theme.unique()), :\n",
    "                 ].groupby(['material_type', 'material_id']).count().reset_index().iloc[:, :2]"
   ]
  },
  {
   "cell_type": "code",
   "execution_count": 108,
   "metadata": {
    "_uuid": "a842368fac709c62d55f25af813879d92f6d2898"
   },
   "outputs": [
    {
     "data": {
      "text/html": [
       "<div>\n",
       "<style scoped>\n",
       "    .dataframe tbody tr th:only-of-type {\n",
       "        vertical-align: middle;\n",
       "    }\n",
       "\n",
       "    .dataframe tbody tr th {\n",
       "        vertical-align: top;\n",
       "    }\n",
       "\n",
       "    .dataframe thead th {\n",
       "        text-align: right;\n",
       "    }\n",
       "</style>\n",
       "<table border=\"1\" class=\"dataframe\">\n",
       "  <thead>\n",
       "    <tr style=\"text-align: right;\">\n",
       "      <th></th>\n",
       "      <th>material_type</th>\n",
       "      <th>material_id</th>\n",
       "    </tr>\n",
       "  </thead>\n",
       "  <tbody>\n",
       "    <tr>\n",
       "      <th>0</th>\n",
       "      <td>AtomicObject</td>\n",
       "      <td>1048</td>\n",
       "    </tr>\n",
       "    <tr>\n",
       "      <th>1</th>\n",
       "      <td>AtomicObject</td>\n",
       "      <td>1050</td>\n",
       "    </tr>\n",
       "    <tr>\n",
       "      <th>2</th>\n",
       "      <td>AtomicObject</td>\n",
       "      <td>1080</td>\n",
       "    </tr>\n",
       "    <tr>\n",
       "      <th>3</th>\n",
       "      <td>AtomicObject</td>\n",
       "      <td>1085</td>\n",
       "    </tr>\n",
       "    <tr>\n",
       "      <th>4</th>\n",
       "      <td>AtomicObject</td>\n",
       "      <td>1109</td>\n",
       "    </tr>\n",
       "    <tr>\n",
       "      <th>5</th>\n",
       "      <td>AtomicObject</td>\n",
       "      <td>1118</td>\n",
       "    </tr>\n",
       "    <tr>\n",
       "      <th>6</th>\n",
       "      <td>AtomicObject</td>\n",
       "      <td>1139</td>\n",
       "    </tr>\n",
       "    <tr>\n",
       "      <th>7</th>\n",
       "      <td>AtomicObject</td>\n",
       "      <td>1140</td>\n",
       "    </tr>\n",
       "    <tr>\n",
       "      <th>8</th>\n",
       "      <td>AtomicObject</td>\n",
       "      <td>1147</td>\n",
       "    </tr>\n",
       "    <tr>\n",
       "      <th>9</th>\n",
       "      <td>AtomicObject</td>\n",
       "      <td>1207</td>\n",
       "    </tr>\n",
       "    <tr>\n",
       "      <th>10</th>\n",
       "      <td>AtomicObject</td>\n",
       "      <td>1267</td>\n",
       "    </tr>\n",
       "    <tr>\n",
       "      <th>11</th>\n",
       "      <td>AtomicObject</td>\n",
       "      <td>1270</td>\n",
       "    </tr>\n",
       "    <tr>\n",
       "      <th>12</th>\n",
       "      <td>AtomicObject</td>\n",
       "      <td>1280</td>\n",
       "    </tr>\n",
       "    <tr>\n",
       "      <th>13</th>\n",
       "      <td>AtomicObject</td>\n",
       "      <td>1289</td>\n",
       "    </tr>\n",
       "    <tr>\n",
       "      <th>14</th>\n",
       "      <td>AtomicObject</td>\n",
       "      <td>1335</td>\n",
       "    </tr>\n",
       "    <tr>\n",
       "      <th>15</th>\n",
       "      <td>AtomicObject</td>\n",
       "      <td>1340</td>\n",
       "    </tr>\n",
       "    <tr>\n",
       "      <th>16</th>\n",
       "      <td>AtomicObject</td>\n",
       "      <td>1343</td>\n",
       "    </tr>\n",
       "    <tr>\n",
       "      <th>17</th>\n",
       "      <td>AtomicObject</td>\n",
       "      <td>1364</td>\n",
       "    </tr>\n",
       "    <tr>\n",
       "      <th>18</th>\n",
       "      <td>AtomicObject</td>\n",
       "      <td>1366</td>\n",
       "    </tr>\n",
       "    <tr>\n",
       "      <th>19</th>\n",
       "      <td>AtomicObject</td>\n",
       "      <td>1380</td>\n",
       "    </tr>\n",
       "    <tr>\n",
       "      <th>20</th>\n",
       "      <td>AtomicObject</td>\n",
       "      <td>1474</td>\n",
       "    </tr>\n",
       "    <tr>\n",
       "      <th>21</th>\n",
       "      <td>AtomicObject</td>\n",
       "      <td>1478</td>\n",
       "    </tr>\n",
       "    <tr>\n",
       "      <th>22</th>\n",
       "      <td>AtomicObject</td>\n",
       "      <td>1517</td>\n",
       "    </tr>\n",
       "    <tr>\n",
       "      <th>23</th>\n",
       "      <td>AtomicObject</td>\n",
       "      <td>1522</td>\n",
       "    </tr>\n",
       "    <tr>\n",
       "      <th>24</th>\n",
       "      <td>AtomicObject</td>\n",
       "      <td>1531</td>\n",
       "    </tr>\n",
       "    <tr>\n",
       "      <th>25</th>\n",
       "      <td>AtomicObject</td>\n",
       "      <td>7265</td>\n",
       "    </tr>\n",
       "    <tr>\n",
       "      <th>26</th>\n",
       "      <td>AtomicObject</td>\n",
       "      <td>7339</td>\n",
       "    </tr>\n",
       "    <tr>\n",
       "      <th>27</th>\n",
       "      <td>AtomicObject</td>\n",
       "      <td>7370</td>\n",
       "    </tr>\n",
       "    <tr>\n",
       "      <th>28</th>\n",
       "      <td>AtomicObject</td>\n",
       "      <td>8744</td>\n",
       "    </tr>\n",
       "    <tr>\n",
       "      <th>29</th>\n",
       "      <td>AtomicObject</td>\n",
       "      <td>8937</td>\n",
       "    </tr>\n",
       "    <tr>\n",
       "      <th>...</th>\n",
       "      <td>...</td>\n",
       "      <td>...</td>\n",
       "    </tr>\n",
       "    <tr>\n",
       "      <th>13733</th>\n",
       "      <td>TestSpecification</td>\n",
       "      <td>49691</td>\n",
       "    </tr>\n",
       "    <tr>\n",
       "      <th>13734</th>\n",
       "      <td>TestSpecification</td>\n",
       "      <td>49699</td>\n",
       "    </tr>\n",
       "    <tr>\n",
       "      <th>13735</th>\n",
       "      <td>TestSpecification</td>\n",
       "      <td>49724</td>\n",
       "    </tr>\n",
       "    <tr>\n",
       "      <th>13736</th>\n",
       "      <td>TestSpecification</td>\n",
       "      <td>49861</td>\n",
       "    </tr>\n",
       "    <tr>\n",
       "      <th>13737</th>\n",
       "      <td>TestSpecification</td>\n",
       "      <td>49871</td>\n",
       "    </tr>\n",
       "    <tr>\n",
       "      <th>13738</th>\n",
       "      <td>TestSpecification</td>\n",
       "      <td>49955</td>\n",
       "    </tr>\n",
       "    <tr>\n",
       "      <th>13739</th>\n",
       "      <td>TestSpecification</td>\n",
       "      <td>49985</td>\n",
       "    </tr>\n",
       "    <tr>\n",
       "      <th>13740</th>\n",
       "      <td>TestSpecification</td>\n",
       "      <td>50043</td>\n",
       "    </tr>\n",
       "    <tr>\n",
       "      <th>13741</th>\n",
       "      <td>TestSpecification</td>\n",
       "      <td>50054</td>\n",
       "    </tr>\n",
       "    <tr>\n",
       "      <th>13742</th>\n",
       "      <td>TestSpecification</td>\n",
       "      <td>50090</td>\n",
       "    </tr>\n",
       "    <tr>\n",
       "      <th>13743</th>\n",
       "      <td>TestSpecification</td>\n",
       "      <td>50095</td>\n",
       "    </tr>\n",
       "    <tr>\n",
       "      <th>13744</th>\n",
       "      <td>TestSpecification</td>\n",
       "      <td>50109</td>\n",
       "    </tr>\n",
       "    <tr>\n",
       "      <th>13745</th>\n",
       "      <td>TestSpecification</td>\n",
       "      <td>50230</td>\n",
       "    </tr>\n",
       "    <tr>\n",
       "      <th>13746</th>\n",
       "      <td>TestSpecification</td>\n",
       "      <td>50236</td>\n",
       "    </tr>\n",
       "    <tr>\n",
       "      <th>13747</th>\n",
       "      <td>TestSpecification</td>\n",
       "      <td>50237</td>\n",
       "    </tr>\n",
       "    <tr>\n",
       "      <th>13748</th>\n",
       "      <td>TestSpecification</td>\n",
       "      <td>50249</td>\n",
       "    </tr>\n",
       "    <tr>\n",
       "      <th>13749</th>\n",
       "      <td>TestSpecification</td>\n",
       "      <td>50313</td>\n",
       "    </tr>\n",
       "    <tr>\n",
       "      <th>13750</th>\n",
       "      <td>TestSpecification</td>\n",
       "      <td>50366</td>\n",
       "    </tr>\n",
       "    <tr>\n",
       "      <th>13751</th>\n",
       "      <td>TestSpecification</td>\n",
       "      <td>50371</td>\n",
       "    </tr>\n",
       "    <tr>\n",
       "      <th>13752</th>\n",
       "      <td>TestSpecification</td>\n",
       "      <td>50372</td>\n",
       "    </tr>\n",
       "    <tr>\n",
       "      <th>13753</th>\n",
       "      <td>TestSpecification</td>\n",
       "      <td>50448</td>\n",
       "    </tr>\n",
       "    <tr>\n",
       "      <th>13754</th>\n",
       "      <td>TestSpecification</td>\n",
       "      <td>50507</td>\n",
       "    </tr>\n",
       "    <tr>\n",
       "      <th>13755</th>\n",
       "      <td>TestSpecification</td>\n",
       "      <td>50524</td>\n",
       "    </tr>\n",
       "    <tr>\n",
       "      <th>13756</th>\n",
       "      <td>TestSpecification</td>\n",
       "      <td>50620</td>\n",
       "    </tr>\n",
       "    <tr>\n",
       "      <th>13757</th>\n",
       "      <td>TestSpecification</td>\n",
       "      <td>50656</td>\n",
       "    </tr>\n",
       "    <tr>\n",
       "      <th>13758</th>\n",
       "      <td>TestSpecification</td>\n",
       "      <td>50746</td>\n",
       "    </tr>\n",
       "    <tr>\n",
       "      <th>13759</th>\n",
       "      <td>TestSpecification</td>\n",
       "      <td>50941</td>\n",
       "    </tr>\n",
       "    <tr>\n",
       "      <th>13760</th>\n",
       "      <td>TestSpecification</td>\n",
       "      <td>50951</td>\n",
       "    </tr>\n",
       "    <tr>\n",
       "      <th>13761</th>\n",
       "      <td>TestSpecification</td>\n",
       "      <td>51036</td>\n",
       "    </tr>\n",
       "    <tr>\n",
       "      <th>13762</th>\n",
       "      <td>TestSpecification</td>\n",
       "      <td>51141</td>\n",
       "    </tr>\n",
       "  </tbody>\n",
       "</table>\n",
       "<p>13763 rows × 2 columns</p>\n",
       "</div>"
      ],
      "text/plain": [
       "           material_type  material_id\n",
       "0           AtomicObject         1048\n",
       "1           AtomicObject         1050\n",
       "2           AtomicObject         1080\n",
       "3           AtomicObject         1085\n",
       "4           AtomicObject         1109\n",
       "5           AtomicObject         1118\n",
       "6           AtomicObject         1139\n",
       "7           AtomicObject         1140\n",
       "8           AtomicObject         1147\n",
       "9           AtomicObject         1207\n",
       "10          AtomicObject         1267\n",
       "11          AtomicObject         1270\n",
       "12          AtomicObject         1280\n",
       "13          AtomicObject         1289\n",
       "14          AtomicObject         1335\n",
       "15          AtomicObject         1340\n",
       "16          AtomicObject         1343\n",
       "17          AtomicObject         1364\n",
       "18          AtomicObject         1366\n",
       "19          AtomicObject         1380\n",
       "20          AtomicObject         1474\n",
       "21          AtomicObject         1478\n",
       "22          AtomicObject         1517\n",
       "23          AtomicObject         1522\n",
       "24          AtomicObject         1531\n",
       "25          AtomicObject         7265\n",
       "26          AtomicObject         7339\n",
       "27          AtomicObject         7370\n",
       "28          AtomicObject         8744\n",
       "29          AtomicObject         8937\n",
       "...                  ...          ...\n",
       "13733  TestSpecification        49691\n",
       "13734  TestSpecification        49699\n",
       "13735  TestSpecification        49724\n",
       "13736  TestSpecification        49861\n",
       "13737  TestSpecification        49871\n",
       "13738  TestSpecification        49955\n",
       "13739  TestSpecification        49985\n",
       "13740  TestSpecification        50043\n",
       "13741  TestSpecification        50054\n",
       "13742  TestSpecification        50090\n",
       "13743  TestSpecification        50095\n",
       "13744  TestSpecification        50109\n",
       "13745  TestSpecification        50230\n",
       "13746  TestSpecification        50236\n",
       "13747  TestSpecification        50237\n",
       "13748  TestSpecification        50249\n",
       "13749  TestSpecification        50313\n",
       "13750  TestSpecification        50366\n",
       "13751  TestSpecification        50371\n",
       "13752  TestSpecification        50372\n",
       "13753  TestSpecification        50448\n",
       "13754  TestSpecification        50507\n",
       "13755  TestSpecification        50524\n",
       "13756  TestSpecification        50620\n",
       "13757  TestSpecification        50656\n",
       "13758  TestSpecification        50746\n",
       "13759  TestSpecification        50941\n",
       "13760  TestSpecification        50951\n",
       "13761  TestSpecification        51036\n",
       "13762  TestSpecification        51141\n",
       "\n",
       "[13763 rows x 2 columns]"
      ]
     },
     "execution_count": 108,
     "metadata": {},
     "output_type": "execute_result"
    }
   ],
   "source": [
    "mat_list"
   ]
  },
  {
   "cell_type": "code",
   "execution_count": 109,
   "metadata": {
    "_uuid": "dd1d60b3a8d6bc9778c14981b5dcafbcbdbfba45"
   },
   "outputs": [],
   "source": [
    "rec_final = pd.merge(marks, mat_list, how = 'inner', on = ['material_type', 'material_id']\n",
    "        ).sort_values(by = ['avg_rating', 'marks_qty'], ascending = False).head(10)"
   ]
  },
  {
   "cell_type": "code",
   "execution_count": 110,
   "metadata": {
    "_uuid": "ae577034ea50060894303a7455962396498120ad"
   },
   "outputs": [
    {
     "data": {
      "text/html": [
       "<div>\n",
       "<style scoped>\n",
       "    .dataframe tbody tr th:only-of-type {\n",
       "        vertical-align: middle;\n",
       "    }\n",
       "\n",
       "    .dataframe tbody tr th {\n",
       "        vertical-align: top;\n",
       "    }\n",
       "\n",
       "    .dataframe thead th {\n",
       "        text-align: right;\n",
       "    }\n",
       "</style>\n",
       "<table border=\"1\" class=\"dataframe\">\n",
       "  <thead>\n",
       "    <tr style=\"text-align: right;\">\n",
       "      <th></th>\n",
       "      <th>material_id</th>\n",
       "      <th>material_type</th>\n",
       "      <th>avg_rating</th>\n",
       "      <th>marks_qty</th>\n",
       "    </tr>\n",
       "  </thead>\n",
       "  <tbody>\n",
       "    <tr>\n",
       "      <th>3317</th>\n",
       "      <td>370870</td>\n",
       "      <td>AtomicObject</td>\n",
       "      <td>5.0</td>\n",
       "      <td>211</td>\n",
       "    </tr>\n",
       "    <tr>\n",
       "      <th>2958</th>\n",
       "      <td>262762</td>\n",
       "      <td>AtomicObject</td>\n",
       "      <td>5.0</td>\n",
       "      <td>200</td>\n",
       "    </tr>\n",
       "    <tr>\n",
       "      <th>4095</th>\n",
       "      <td>465302</td>\n",
       "      <td>AtomicObject</td>\n",
       "      <td>5.0</td>\n",
       "      <td>173</td>\n",
       "    </tr>\n",
       "    <tr>\n",
       "      <th>4096</th>\n",
       "      <td>465309</td>\n",
       "      <td>AtomicObject</td>\n",
       "      <td>5.0</td>\n",
       "      <td>173</td>\n",
       "    </tr>\n",
       "    <tr>\n",
       "      <th>3369</th>\n",
       "      <td>380426</td>\n",
       "      <td>AtomicObject</td>\n",
       "      <td>5.0</td>\n",
       "      <td>163</td>\n",
       "    </tr>\n",
       "    <tr>\n",
       "      <th>4401</th>\n",
       "      <td>522277</td>\n",
       "      <td>AtomicObject</td>\n",
       "      <td>5.0</td>\n",
       "      <td>139</td>\n",
       "    </tr>\n",
       "    <tr>\n",
       "      <th>4428</th>\n",
       "      <td>544532</td>\n",
       "      <td>AtomicObject</td>\n",
       "      <td>5.0</td>\n",
       "      <td>116</td>\n",
       "    </tr>\n",
       "    <tr>\n",
       "      <th>3694</th>\n",
       "      <td>426724</td>\n",
       "      <td>AtomicObject</td>\n",
       "      <td>5.0</td>\n",
       "      <td>115</td>\n",
       "    </tr>\n",
       "    <tr>\n",
       "      <th>3695</th>\n",
       "      <td>426779</td>\n",
       "      <td>AtomicObject</td>\n",
       "      <td>5.0</td>\n",
       "      <td>115</td>\n",
       "    </tr>\n",
       "    <tr>\n",
       "      <th>3713</th>\n",
       "      <td>429132</td>\n",
       "      <td>AtomicObject</td>\n",
       "      <td>5.0</td>\n",
       "      <td>115</td>\n",
       "    </tr>\n",
       "  </tbody>\n",
       "</table>\n",
       "</div>"
      ],
      "text/plain": [
       "      material_id material_type  avg_rating  marks_qty\n",
       "3317       370870  AtomicObject         5.0        211\n",
       "2958       262762  AtomicObject         5.0        200\n",
       "4095       465302  AtomicObject         5.0        173\n",
       "4096       465309  AtomicObject         5.0        173\n",
       "3369       380426  AtomicObject         5.0        163\n",
       "4401       522277  AtomicObject         5.0        139\n",
       "4428       544532  AtomicObject         5.0        116\n",
       "3694       426724  AtomicObject         5.0        115\n",
       "3695       426779  AtomicObject         5.0        115\n",
       "3713       429132  AtomicObject         5.0        115"
      ]
     },
     "execution_count": 110,
     "metadata": {},
     "output_type": "execute_result"
    }
   ],
   "source": [
    "rec_final"
   ]
  },
  {
   "cell_type": "code",
   "execution_count": null,
   "metadata": {
    "_uuid": "2ebd525dd4f8c4d605ad8644e9c9bb759622e55a"
   },
   "outputs": [],
   "source": []
  },
  {
   "cell_type": "code",
   "execution_count": 114,
   "metadata": {
    "_uuid": "3ba07441cdb0b5b02ffb7c89478298aa99f7f3f0"
   },
   "outputs": [],
   "source": [
    "def make_ready_for_recom(rec_week_num, rec_week_year):\n",
    "    week_delta = 8\n",
    "    # Создаем даатфрейм с темами на требуемой неделе\n",
    "    next_themes = lp.loc[(lp.week_num == rec_week_num) & (lp.code.apply(lambda x: len(str(x)) > 2)), \n",
    "                         ['teacher_id', 'theme']]\n",
    "    \n",
    "    t1 = lp.loc[(lp.week_num < rec_week_num) & (lp.week_num >= rec_week_num - week_delta) & (\n",
    "        lp.year_num == rec_week_year) & (lp.teacher_id.isin(next_themes.teacher_id.unique())) & (\n",
    "        lp.code.apply(lambda x: len(str(x)) > 2)), \n",
    "                :].groupby(['teacher_id', 'theme']).week_num.count().reset_index().iloc[:, :2]\n",
    "    t1 = pd.concat([tmp.rename(columns = {'action_user_id': 'teacher_id'}, index = str), t1])\n",
    "    t1['qty'] = 1\n",
    "    t1 = t1.groupby(['teacher_id', 'theme']).count().reset_index().iloc[:, :2]\n",
    "    \n",
    "    # формируем спарс матрицы\n",
    "    user_ref = pd.DataFrame({'teacher_id': t1.teacher_id.unique(), \n",
    "                             'user_ind': range(t1.teacher_id.unique().shape[0])})\n",
    "    theme_ref = pd.DataFrame({'theme': t1.theme.unique(), \n",
    "                              'theme_ind': range(t1.theme.unique().shape[0])})\n",
    "    t1 = pd.merge(t1, user_ref, how = 'inner', on = 'teacher_id')\n",
    "    t1 = pd.merge(t1, theme_ref, how = 'inner', on = 'theme')\n",
    "    t1['qty'] = 1\n",
    "    \n",
    "    size = t1.shape[0]\n",
    "    row = np.array(t1.user_ind[:size])\n",
    "    col = np.array(t1.theme_ind[:size])\n",
    "    data = np.array(t1.qty[:size])\n",
    "    X = sparse.csr_matrix((data, (row, col))).asfptype()\n",
    "    \n",
    "    # Применяем сингулярное разложение\n",
    "    (U, S, V) = svds(X, k = 100)\n",
    "    \n",
    "    # Применяем метод ближайших соседей(KDtree)\n",
    "    tree = spatial.KDTree(U)\n",
    "    ready = np.array([next_themes, t1, user_ref, theme_ref, tree, U])\n",
    "    return ready\n",
    "\n",
    "next_themes = make_ready_for_recom(rec_week_num, rec_week_year)[0]\n",
    "t1 = make_ready_for_recom(rec_week_num, rec_week_year)[1]\n",
    "user_ref = make_ready_for_recom(rec_week_num, rec_week_year)[2]\n",
    "theme_ref = make_ready_for_recom(rec_week_num, rec_week_year)[3]\n",
    "tree = make_ready_for_recom(rec_week_num, rec_week_year)[4]\n",
    "U = make_ready_for_recom(rec_week_num, rec_week_year)[5]\n",
    "\n",
    "def recomm_by_les_and_act(teacher_id):\n",
    "    nn_user_ind = tree.query(U[user_ref.loc[user_ref.teacher_id == teacher_id, 'user_ind'].values[0], :], k = 100)[1]\n",
    "    \n",
    "    mat_list = mc.loc[mc.theme.isin(next_themes[next_themes.teacher_id.isin(\n",
    "        user_ref.loc[user_ref.user_ind.isin(nn_user_ind), \n",
    "                     'teacher_id'].values)].theme.unique()), :\n",
    "                     ].groupby(['material_type', 'material_id']).count().reset_index().iloc[:, :2]\n",
    "    rec_final = pd.merge(marks, mat_list, how = 'inner', on = ['material_type', 'material_id']\n",
    "                        ).sort_values(by = ['avg_rating', 'marks_qty'], ascending = False).head(10)\n",
    "    return rec_final"
   ]
  },
  {
   "cell_type": "code",
   "execution_count": 115,
   "metadata": {
    "_uuid": "bf9fbfd575b1f5d24cc77890e7e5e7e86ebb5bd5"
   },
   "outputs": [
    {
     "name": "stdout",
     "output_type": "stream",
     "text": [
      "CPU times: user 972 ms, sys: 4 ms, total: 976 ms\n",
      "Wall time: 971 ms\n"
     ]
    },
    {
     "data": {
      "text/html": [
       "<div>\n",
       "<style scoped>\n",
       "    .dataframe tbody tr th:only-of-type {\n",
       "        vertical-align: middle;\n",
       "    }\n",
       "\n",
       "    .dataframe tbody tr th {\n",
       "        vertical-align: top;\n",
       "    }\n",
       "\n",
       "    .dataframe thead th {\n",
       "        text-align: right;\n",
       "    }\n",
       "</style>\n",
       "<table border=\"1\" class=\"dataframe\">\n",
       "  <thead>\n",
       "    <tr style=\"text-align: right;\">\n",
       "      <th></th>\n",
       "      <th>material_id</th>\n",
       "      <th>material_type</th>\n",
       "      <th>avg_rating</th>\n",
       "      <th>marks_qty</th>\n",
       "    </tr>\n",
       "  </thead>\n",
       "  <tbody>\n",
       "    <tr>\n",
       "      <th>2135</th>\n",
       "      <td>262762</td>\n",
       "      <td>AtomicObject</td>\n",
       "      <td>5.0</td>\n",
       "      <td>200</td>\n",
       "    </tr>\n",
       "    <tr>\n",
       "      <th>3037</th>\n",
       "      <td>465282</td>\n",
       "      <td>AtomicObject</td>\n",
       "      <td>5.0</td>\n",
       "      <td>174</td>\n",
       "    </tr>\n",
       "    <tr>\n",
       "      <th>3039</th>\n",
       "      <td>465302</td>\n",
       "      <td>AtomicObject</td>\n",
       "      <td>5.0</td>\n",
       "      <td>173</td>\n",
       "    </tr>\n",
       "    <tr>\n",
       "      <th>3040</th>\n",
       "      <td>465309</td>\n",
       "      <td>AtomicObject</td>\n",
       "      <td>5.0</td>\n",
       "      <td>173</td>\n",
       "    </tr>\n",
       "    <tr>\n",
       "      <th>3038</th>\n",
       "      <td>465288</td>\n",
       "      <td>AtomicObject</td>\n",
       "      <td>5.0</td>\n",
       "      <td>171</td>\n",
       "    </tr>\n",
       "    <tr>\n",
       "      <th>2445</th>\n",
       "      <td>380426</td>\n",
       "      <td>AtomicObject</td>\n",
       "      <td>5.0</td>\n",
       "      <td>163</td>\n",
       "    </tr>\n",
       "    <tr>\n",
       "      <th>3253</th>\n",
       "      <td>522277</td>\n",
       "      <td>AtomicObject</td>\n",
       "      <td>5.0</td>\n",
       "      <td>139</td>\n",
       "    </tr>\n",
       "    <tr>\n",
       "      <th>3275</th>\n",
       "      <td>544532</td>\n",
       "      <td>AtomicObject</td>\n",
       "      <td>5.0</td>\n",
       "      <td>116</td>\n",
       "    </tr>\n",
       "    <tr>\n",
       "      <th>2688</th>\n",
       "      <td>424213</td>\n",
       "      <td>AtomicObject</td>\n",
       "      <td>5.0</td>\n",
       "      <td>45</td>\n",
       "    </tr>\n",
       "    <tr>\n",
       "      <th>4700</th>\n",
       "      <td>1126648</td>\n",
       "      <td>AtomicObject</td>\n",
       "      <td>5.0</td>\n",
       "      <td>43</td>\n",
       "    </tr>\n",
       "  </tbody>\n",
       "</table>\n",
       "</div>"
      ],
      "text/plain": [
       "      material_id material_type  avg_rating  marks_qty\n",
       "2135       262762  AtomicObject         5.0        200\n",
       "3037       465282  AtomicObject         5.0        174\n",
       "3039       465302  AtomicObject         5.0        173\n",
       "3040       465309  AtomicObject         5.0        173\n",
       "3038       465288  AtomicObject         5.0        171\n",
       "2445       380426  AtomicObject         5.0        163\n",
       "3253       522277  AtomicObject         5.0        139\n",
       "3275       544532  AtomicObject         5.0        116\n",
       "2688       424213  AtomicObject         5.0         45\n",
       "4700      1126648  AtomicObject         5.0         43"
      ]
     },
     "execution_count": 115,
     "metadata": {},
     "output_type": "execute_result"
    }
   ],
   "source": [
    "%%time\n",
    "recomm_by_les_and_act(49)"
   ]
  },
  {
   "cell_type": "code",
   "execution_count": null,
   "metadata": {
    "_uuid": "31e95596d311b8a0de57924cd3a16db6e6b728ff"
   },
   "outputs": [],
   "source": []
  },
  {
   "cell_type": "code",
   "execution_count": null,
   "metadata": {
    "_uuid": "d1776b6cf75e4a1d60ad1277622c0fae150a547a"
   },
   "outputs": [],
   "source": []
  }
 ],
 "metadata": {
  "kernelspec": {
   "display_name": "Python 3",
   "language": "python",
   "name": "python3"
  },
  "language_info": {
   "codemirror_mode": {
    "name": "ipython",
    "version": 3
   },
   "file_extension": ".py",
   "mimetype": "text/x-python",
   "name": "python",
   "nbconvert_exporter": "python",
   "pygments_lexer": "ipython3",
   "version": "3.7.3"
  }
 },
 "nbformat": 4,
 "nbformat_minor": 1
}
